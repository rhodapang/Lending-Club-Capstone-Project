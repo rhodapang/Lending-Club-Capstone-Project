{
 "cells": [
  {
   "cell_type": "code",
   "execution_count": 6,
   "metadata": {},
   "outputs": [],
   "source": [
    "import pandas as pd \n",
    "import numpy as np \n",
    "import matplotlib.pyplot as plt\n",
    "import seaborn as sns \n",
    "import missingno as msno"
   ]
  },
  {
   "cell_type": "markdown",
   "metadata": {},
   "source": [
    "# Import Data"
   ]
  },
  {
   "cell_type": "code",
   "execution_count": 120,
   "metadata": {},
   "outputs": [],
   "source": [
    "# Import Dataset that has processed in phase two \n",
    "df = pd.read_csv('Lending Club Updated Version_2.csv')"
   ]
  },
  {
   "cell_type": "code",
   "execution_count": 121,
   "metadata": {},
   "outputs": [
    {
     "data": {
      "text/plain": [
       "(107864, 80)"
      ]
     },
     "execution_count": 121,
     "metadata": {},
     "output_type": "execute_result"
    }
   ],
   "source": [
    "df.shape "
   ]
  },
  {
   "cell_type": "code",
   "execution_count": 122,
   "metadata": {},
   "outputs": [
    {
     "data": {
      "text/html": [
       "<div>\n",
       "<style scoped>\n",
       "    .dataframe tbody tr th:only-of-type {\n",
       "        vertical-align: middle;\n",
       "    }\n",
       "\n",
       "    .dataframe tbody tr th {\n",
       "        vertical-align: top;\n",
       "    }\n",
       "\n",
       "    .dataframe thead th {\n",
       "        text-align: right;\n",
       "    }\n",
       "</style>\n",
       "<table border=\"1\" class=\"dataframe\">\n",
       "  <thead>\n",
       "    <tr style=\"text-align: right;\">\n",
       "      <th></th>\n",
       "      <th>loan_amnt</th>\n",
       "      <th>int_rate</th>\n",
       "      <th>annual_inc</th>\n",
       "      <th>dti</th>\n",
       "      <th>delinq_2yrs</th>\n",
       "      <th>fico_range_low</th>\n",
       "      <th>inq_last_6mths</th>\n",
       "      <th>mths_since_last_delinq</th>\n",
       "      <th>mths_since_last_record</th>\n",
       "      <th>open_acc</th>\n",
       "      <th>...</th>\n",
       "      <th>sec_app_inq_last_6mths</th>\n",
       "      <th>sec_app_mort_acc</th>\n",
       "      <th>sec_app_open_acc</th>\n",
       "      <th>sec_app_revol_util</th>\n",
       "      <th>sec_app_open_act_il</th>\n",
       "      <th>sec_app_num_rev_accts</th>\n",
       "      <th>sec_app_chargeoff_within_12_mths</th>\n",
       "      <th>sec_app_collections_12_mths_ex_med</th>\n",
       "      <th>sec_app_mths_since_last_major_derog</th>\n",
       "      <th>loan_status_1</th>\n",
       "    </tr>\n",
       "  </thead>\n",
       "  <tbody>\n",
       "    <tr>\n",
       "      <th>count</th>\n",
       "      <td>107864.000000</td>\n",
       "      <td>107864.000000</td>\n",
       "      <td>1.078640e+05</td>\n",
       "      <td>107602.000000</td>\n",
       "      <td>107864.000000</td>\n",
       "      <td>107864.000000</td>\n",
       "      <td>107864.000000</td>\n",
       "      <td>47169.000000</td>\n",
       "      <td>15269.000000</td>\n",
       "      <td>107864.000000</td>\n",
       "      <td>...</td>\n",
       "      <td>16331.000000</td>\n",
       "      <td>16331.000000</td>\n",
       "      <td>16331.000000</td>\n",
       "      <td>16021.000000</td>\n",
       "      <td>16331.000000</td>\n",
       "      <td>16331.000000</td>\n",
       "      <td>16331.000000</td>\n",
       "      <td>16331.000000</td>\n",
       "      <td>5427.000000</td>\n",
       "      <td>107864.000000</td>\n",
       "    </tr>\n",
       "    <tr>\n",
       "      <th>mean</th>\n",
       "      <td>16147.942780</td>\n",
       "      <td>12.423171</td>\n",
       "      <td>7.854227e+04</td>\n",
       "      <td>19.648209</td>\n",
       "      <td>0.223773</td>\n",
       "      <td>708.248303</td>\n",
       "      <td>0.461266</td>\n",
       "      <td>36.980008</td>\n",
       "      <td>79.156657</td>\n",
       "      <td>11.377151</td>\n",
       "      <td>...</td>\n",
       "      <td>0.647174</td>\n",
       "      <td>1.550915</td>\n",
       "      <td>11.624150</td>\n",
       "      <td>58.675382</td>\n",
       "      <td>3.011573</td>\n",
       "      <td>12.770375</td>\n",
       "      <td>0.057314</td>\n",
       "      <td>0.080583</td>\n",
       "      <td>35.498987</td>\n",
       "      <td>0.145127</td>\n",
       "    </tr>\n",
       "    <tr>\n",
       "      <th>std</th>\n",
       "      <td>10184.024938</td>\n",
       "      <td>5.004180</td>\n",
       "      <td>7.687436e+04</td>\n",
       "      <td>21.795902</td>\n",
       "      <td>0.730417</td>\n",
       "      <td>37.205453</td>\n",
       "      <td>0.746153</td>\n",
       "      <td>21.802486</td>\n",
       "      <td>24.817082</td>\n",
       "      <td>5.879388</td>\n",
       "      <td>...</td>\n",
       "      <td>1.021778</td>\n",
       "      <td>1.788622</td>\n",
       "      <td>6.665203</td>\n",
       "      <td>25.927238</td>\n",
       "      <td>3.248730</td>\n",
       "      <td>8.287120</td>\n",
       "      <td>0.455782</td>\n",
       "      <td>0.437520</td>\n",
       "      <td>23.915029</td>\n",
       "      <td>0.352231</td>\n",
       "    </tr>\n",
       "    <tr>\n",
       "      <th>min</th>\n",
       "      <td>1000.000000</td>\n",
       "      <td>5.310000</td>\n",
       "      <td>0.000000e+00</td>\n",
       "      <td>0.000000</td>\n",
       "      <td>0.000000</td>\n",
       "      <td>660.000000</td>\n",
       "      <td>0.000000</td>\n",
       "      <td>0.000000</td>\n",
       "      <td>1.000000</td>\n",
       "      <td>0.000000</td>\n",
       "      <td>...</td>\n",
       "      <td>0.000000</td>\n",
       "      <td>0.000000</td>\n",
       "      <td>0.000000</td>\n",
       "      <td>0.000000</td>\n",
       "      <td>0.000000</td>\n",
       "      <td>0.000000</td>\n",
       "      <td>0.000000</td>\n",
       "      <td>0.000000</td>\n",
       "      <td>0.000000</td>\n",
       "      <td>0.000000</td>\n",
       "    </tr>\n",
       "    <tr>\n",
       "      <th>25%</th>\n",
       "      <td>8000.000000</td>\n",
       "      <td>9.430000</td>\n",
       "      <td>4.500000e+04</td>\n",
       "      <td>11.230000</td>\n",
       "      <td>0.000000</td>\n",
       "      <td>680.000000</td>\n",
       "      <td>0.000000</td>\n",
       "      <td>19.000000</td>\n",
       "      <td>64.000000</td>\n",
       "      <td>7.000000</td>\n",
       "      <td>...</td>\n",
       "      <td>0.000000</td>\n",
       "      <td>0.000000</td>\n",
       "      <td>7.000000</td>\n",
       "      <td>39.800000</td>\n",
       "      <td>1.000000</td>\n",
       "      <td>7.000000</td>\n",
       "      <td>0.000000</td>\n",
       "      <td>0.000000</td>\n",
       "      <td>14.000000</td>\n",
       "      <td>0.000000</td>\n",
       "    </tr>\n",
       "    <tr>\n",
       "      <th>50%</th>\n",
       "      <td>14000.000000</td>\n",
       "      <td>11.980000</td>\n",
       "      <td>6.500000e+04</td>\n",
       "      <td>17.670000</td>\n",
       "      <td>0.000000</td>\n",
       "      <td>700.000000</td>\n",
       "      <td>0.000000</td>\n",
       "      <td>34.000000</td>\n",
       "      <td>83.000000</td>\n",
       "      <td>10.000000</td>\n",
       "      <td>...</td>\n",
       "      <td>0.000000</td>\n",
       "      <td>1.000000</td>\n",
       "      <td>11.000000</td>\n",
       "      <td>60.700000</td>\n",
       "      <td>2.000000</td>\n",
       "      <td>11.000000</td>\n",
       "      <td>0.000000</td>\n",
       "      <td>0.000000</td>\n",
       "      <td>34.000000</td>\n",
       "      <td>0.000000</td>\n",
       "    </tr>\n",
       "    <tr>\n",
       "      <th>75%</th>\n",
       "      <td>22400.000000</td>\n",
       "      <td>15.050000</td>\n",
       "      <td>9.500000e+04</td>\n",
       "      <td>25.020000</td>\n",
       "      <td>0.000000</td>\n",
       "      <td>730.000000</td>\n",
       "      <td>1.000000</td>\n",
       "      <td>53.000000</td>\n",
       "      <td>98.000000</td>\n",
       "      <td>14.000000</td>\n",
       "      <td>...</td>\n",
       "      <td>1.000000</td>\n",
       "      <td>3.000000</td>\n",
       "      <td>15.000000</td>\n",
       "      <td>79.200000</td>\n",
       "      <td>4.000000</td>\n",
       "      <td>17.000000</td>\n",
       "      <td>0.000000</td>\n",
       "      <td>0.000000</td>\n",
       "      <td>55.000000</td>\n",
       "      <td>0.000000</td>\n",
       "    </tr>\n",
       "    <tr>\n",
       "      <th>max</th>\n",
       "      <td>40000.000000</td>\n",
       "      <td>30.990000</td>\n",
       "      <td>8.365188e+06</td>\n",
       "      <td>999.000000</td>\n",
       "      <td>20.000000</td>\n",
       "      <td>845.000000</td>\n",
       "      <td>5.000000</td>\n",
       "      <td>226.000000</td>\n",
       "      <td>124.000000</td>\n",
       "      <td>69.000000</td>\n",
       "      <td>...</td>\n",
       "      <td>6.000000</td>\n",
       "      <td>27.000000</td>\n",
       "      <td>66.000000</td>\n",
       "      <td>434.300000</td>\n",
       "      <td>34.000000</td>\n",
       "      <td>85.000000</td>\n",
       "      <td>17.000000</td>\n",
       "      <td>15.000000</td>\n",
       "      <td>131.000000</td>\n",
       "      <td>1.000000</td>\n",
       "    </tr>\n",
       "  </tbody>\n",
       "</table>\n",
       "<p>8 rows × 68 columns</p>\n",
       "</div>"
      ],
      "text/plain": [
       "           loan_amnt       int_rate    annual_inc            dti  \\\n",
       "count  107864.000000  107864.000000  1.078640e+05  107602.000000   \n",
       "mean    16147.942780      12.423171  7.854227e+04      19.648209   \n",
       "std     10184.024938       5.004180  7.687436e+04      21.795902   \n",
       "min      1000.000000       5.310000  0.000000e+00       0.000000   \n",
       "25%      8000.000000       9.430000  4.500000e+04      11.230000   \n",
       "50%     14000.000000      11.980000  6.500000e+04      17.670000   \n",
       "75%     22400.000000      15.050000  9.500000e+04      25.020000   \n",
       "max     40000.000000      30.990000  8.365188e+06     999.000000   \n",
       "\n",
       "         delinq_2yrs  fico_range_low  inq_last_6mths  mths_since_last_delinq  \\\n",
       "count  107864.000000   107864.000000   107864.000000            47169.000000   \n",
       "mean        0.223773      708.248303        0.461266               36.980008   \n",
       "std         0.730417       37.205453        0.746153               21.802486   \n",
       "min         0.000000      660.000000        0.000000                0.000000   \n",
       "25%         0.000000      680.000000        0.000000               19.000000   \n",
       "50%         0.000000      700.000000        0.000000               34.000000   \n",
       "75%         0.000000      730.000000        1.000000               53.000000   \n",
       "max        20.000000      845.000000        5.000000              226.000000   \n",
       "\n",
       "       mths_since_last_record       open_acc  ...  sec_app_inq_last_6mths  \\\n",
       "count            15269.000000  107864.000000  ...            16331.000000   \n",
       "mean                79.156657      11.377151  ...                0.647174   \n",
       "std                 24.817082       5.879388  ...                1.021778   \n",
       "min                  1.000000       0.000000  ...                0.000000   \n",
       "25%                 64.000000       7.000000  ...                0.000000   \n",
       "50%                 83.000000      10.000000  ...                0.000000   \n",
       "75%                 98.000000      14.000000  ...                1.000000   \n",
       "max                124.000000      69.000000  ...                6.000000   \n",
       "\n",
       "       sec_app_mort_acc  sec_app_open_acc  sec_app_revol_util  \\\n",
       "count      16331.000000      16331.000000        16021.000000   \n",
       "mean           1.550915         11.624150           58.675382   \n",
       "std            1.788622          6.665203           25.927238   \n",
       "min            0.000000          0.000000            0.000000   \n",
       "25%            0.000000          7.000000           39.800000   \n",
       "50%            1.000000         11.000000           60.700000   \n",
       "75%            3.000000         15.000000           79.200000   \n",
       "max           27.000000         66.000000          434.300000   \n",
       "\n",
       "       sec_app_open_act_il  sec_app_num_rev_accts  \\\n",
       "count         16331.000000           16331.000000   \n",
       "mean              3.011573              12.770375   \n",
       "std               3.248730               8.287120   \n",
       "min               0.000000               0.000000   \n",
       "25%               1.000000               7.000000   \n",
       "50%               2.000000              11.000000   \n",
       "75%               4.000000              17.000000   \n",
       "max              34.000000              85.000000   \n",
       "\n",
       "       sec_app_chargeoff_within_12_mths  sec_app_collections_12_mths_ex_med  \\\n",
       "count                      16331.000000                        16331.000000   \n",
       "mean                           0.057314                            0.080583   \n",
       "std                            0.455782                            0.437520   \n",
       "min                            0.000000                            0.000000   \n",
       "25%                            0.000000                            0.000000   \n",
       "50%                            0.000000                            0.000000   \n",
       "75%                            0.000000                            0.000000   \n",
       "max                           17.000000                           15.000000   \n",
       "\n",
       "       sec_app_mths_since_last_major_derog  loan_status_1  \n",
       "count                          5427.000000  107864.000000  \n",
       "mean                             35.498987       0.145127  \n",
       "std                              23.915029       0.352231  \n",
       "min                               0.000000       0.000000  \n",
       "25%                              14.000000       0.000000  \n",
       "50%                              34.000000       0.000000  \n",
       "75%                              55.000000       0.000000  \n",
       "max                             131.000000       1.000000  \n",
       "\n",
       "[8 rows x 68 columns]"
      ]
     },
     "execution_count": 122,
     "metadata": {},
     "output_type": "execute_result"
    }
   ],
   "source": [
    "df.describe() "
   ]
  },
  {
   "cell_type": "markdown",
   "metadata": {},
   "source": [
    "# Deal with Missing Value "
   ]
  },
  {
   "cell_type": "code",
   "execution_count": 123,
   "metadata": {},
   "outputs": [
    {
     "data": {
      "text/plain": [
       "<AxesSubplot:>"
      ]
     },
     "execution_count": 123,
     "metadata": {},
     "output_type": "execute_result"
    },
    {
     "data": {
      "image/png": "[encoded data removed]",
      "text/plain": [
       "<Figure size 1800x720 with 2 Axes>"
      ]
     },
     "metadata": {
      "needs_background": "light"
     },
     "output_type": "display_data"
    }
   ],
   "source": [
    "msno.matrix(df) "
   ]
  },
  {
   "cell_type": "code",
   "execution_count": 124,
   "metadata": {},
   "outputs": [
    {
     "name": "stdout",
     "output_type": "stream",
     "text": [
      "Your selected dataframe has 80 columns.\n",
      "There are 30columns that have missing values.\n"
     ]
    },
    {
     "data": {
      "text/html": [
       "<div>\n",
       "<style scoped>\n",
       "    .dataframe tbody tr th:only-of-type {\n",
       "        vertical-align: middle;\n",
       "    }\n",
       "\n",
       "    .dataframe tbody tr th {\n",
       "        vertical-align: top;\n",
       "    }\n",
       "\n",
       "    .dataframe thead th {\n",
       "        text-align: right;\n",
       "    }\n",
       "</style>\n",
       "<table border=\"1\" class=\"dataframe\">\n",
       "  <thead>\n",
       "    <tr style=\"text-align: right;\">\n",
       "      <th></th>\n",
       "      <th>Missing Values</th>\n",
       "      <th>% of Total Values</th>\n",
       "    </tr>\n",
       "  </thead>\n",
       "  <tbody>\n",
       "    <tr>\n",
       "      <th>sec_app_mths_since_last_major_derog</th>\n",
       "      <td>102437</td>\n",
       "      <td>95.0</td>\n",
       "    </tr>\n",
       "    <tr>\n",
       "      <th>mths_since_last_record</th>\n",
       "      <td>92595</td>\n",
       "      <td>85.8</td>\n",
       "    </tr>\n",
       "    <tr>\n",
       "      <th>verification_status_joint</th>\n",
       "      <td>91847</td>\n",
       "      <td>85.2</td>\n",
       "    </tr>\n",
       "    <tr>\n",
       "      <th>sec_app_revol_util</th>\n",
       "      <td>91843</td>\n",
       "      <td>85.1</td>\n",
       "    </tr>\n",
       "    <tr>\n",
       "      <th>sec_app_fico_range_low</th>\n",
       "      <td>91533</td>\n",
       "      <td>84.9</td>\n",
       "    </tr>\n",
       "    <tr>\n",
       "      <th>sec_app_inq_last_6mths</th>\n",
       "      <td>91533</td>\n",
       "      <td>84.9</td>\n",
       "    </tr>\n",
       "    <tr>\n",
       "      <th>sec_app_mort_acc</th>\n",
       "      <td>91533</td>\n",
       "      <td>84.9</td>\n",
       "    </tr>\n",
       "    <tr>\n",
       "      <th>sec_app_open_acc</th>\n",
       "      <td>91533</td>\n",
       "      <td>84.9</td>\n",
       "    </tr>\n",
       "    <tr>\n",
       "      <th>sec_app_open_act_il</th>\n",
       "      <td>91533</td>\n",
       "      <td>84.9</td>\n",
       "    </tr>\n",
       "    <tr>\n",
       "      <th>sec_app_num_rev_accts</th>\n",
       "      <td>91533</td>\n",
       "      <td>84.9</td>\n",
       "    </tr>\n",
       "    <tr>\n",
       "      <th>revol_bal_joint</th>\n",
       "      <td>91533</td>\n",
       "      <td>84.9</td>\n",
       "    </tr>\n",
       "    <tr>\n",
       "      <th>sec_app_chargeoff_within_12_mths</th>\n",
       "      <td>91533</td>\n",
       "      <td>84.9</td>\n",
       "    </tr>\n",
       "    <tr>\n",
       "      <th>dti_joint</th>\n",
       "      <td>91533</td>\n",
       "      <td>84.9</td>\n",
       "    </tr>\n",
       "    <tr>\n",
       "      <th>annual_inc_joint</th>\n",
       "      <td>91533</td>\n",
       "      <td>84.9</td>\n",
       "    </tr>\n",
       "    <tr>\n",
       "      <th>sec_app_collections_12_mths_ex_med</th>\n",
       "      <td>91533</td>\n",
       "      <td>84.9</td>\n",
       "    </tr>\n",
       "    <tr>\n",
       "      <th>mths_since_recent_bc_dlq</th>\n",
       "      <td>86566</td>\n",
       "      <td>80.3</td>\n",
       "    </tr>\n",
       "    <tr>\n",
       "      <th>mths_since_last_major_derog</th>\n",
       "      <td>83103</td>\n",
       "      <td>77.0</td>\n",
       "    </tr>\n",
       "    <tr>\n",
       "      <th>mths_since_last_delinq</th>\n",
       "      <td>60695</td>\n",
       "      <td>56.3</td>\n",
       "    </tr>\n",
       "    <tr>\n",
       "      <th>il_util</th>\n",
       "      <td>17984</td>\n",
       "      <td>16.7</td>\n",
       "    </tr>\n",
       "    <tr>\n",
       "      <th>mths_since_recent_inq</th>\n",
       "      <td>13648</td>\n",
       "      <td>12.7</td>\n",
       "    </tr>\n",
       "    <tr>\n",
       "      <th>emp_length</th>\n",
       "      <td>9428</td>\n",
       "      <td>8.7</td>\n",
       "    </tr>\n",
       "    <tr>\n",
       "      <th>mo_sin_old_il_acct</th>\n",
       "      <td>4288</td>\n",
       "      <td>4.0</td>\n",
       "    </tr>\n",
       "    <tr>\n",
       "      <th>mths_since_rcnt_il</th>\n",
       "      <td>4288</td>\n",
       "      <td>4.0</td>\n",
       "    </tr>\n",
       "    <tr>\n",
       "      <th>bc_util</th>\n",
       "      <td>1561</td>\n",
       "      <td>1.4</td>\n",
       "    </tr>\n",
       "    <tr>\n",
       "      <th>bc_open_to_buy</th>\n",
       "      <td>1510</td>\n",
       "      <td>1.4</td>\n",
       "    </tr>\n",
       "    <tr>\n",
       "      <th>mths_since_recent_bc</th>\n",
       "      <td>1421</td>\n",
       "      <td>1.3</td>\n",
       "    </tr>\n",
       "    <tr>\n",
       "      <th>dti</th>\n",
       "      <td>262</td>\n",
       "      <td>0.2</td>\n",
       "    </tr>\n",
       "    <tr>\n",
       "      <th>revol_util</th>\n",
       "      <td>149</td>\n",
       "      <td>0.1</td>\n",
       "    </tr>\n",
       "    <tr>\n",
       "      <th>all_util</th>\n",
       "      <td>28</td>\n",
       "      <td>0.0</td>\n",
       "    </tr>\n",
       "    <tr>\n",
       "      <th>pct_tl_nvr_dlq</th>\n",
       "      <td>1</td>\n",
       "      <td>0.0</td>\n",
       "    </tr>\n",
       "  </tbody>\n",
       "</table>\n",
       "</div>"
      ],
      "text/plain": [
       "                                     Missing Values  % of Total Values\n",
       "sec_app_mths_since_last_major_derog          102437               95.0\n",
       "mths_since_last_record                        92595               85.8\n",
       "verification_status_joint                     91847               85.2\n",
       "sec_app_revol_util                            91843               85.1\n",
       "sec_app_fico_range_low                        91533               84.9\n",
       "sec_app_inq_last_6mths                        91533               84.9\n",
       "sec_app_mort_acc                              91533               84.9\n",
       "sec_app_open_acc                              91533               84.9\n",
       "sec_app_open_act_il                           91533               84.9\n",
       "sec_app_num_rev_accts                         91533               84.9\n",
       "revol_bal_joint                               91533               84.9\n",
       "sec_app_chargeoff_within_12_mths              91533               84.9\n",
       "dti_joint                                     91533               84.9\n",
       "annual_inc_joint                              91533               84.9\n",
       "sec_app_collections_12_mths_ex_med            91533               84.9\n",
       "mths_since_recent_bc_dlq                      86566               80.3\n",
       "mths_since_last_major_derog                   83103               77.0\n",
       "mths_since_last_delinq                        60695               56.3\n",
       "il_util                                       17984               16.7\n",
       "mths_since_recent_inq                         13648               12.7\n",
       "emp_length                                     9428                8.7\n",
       "mo_sin_old_il_acct                             4288                4.0\n",
       "mths_since_rcnt_il                             4288                4.0\n",
       "bc_util                                        1561                1.4\n",
       "bc_open_to_buy                                 1510                1.4\n",
       "mths_since_recent_bc                           1421                1.3\n",
       "dti                                             262                0.2\n",
       "revol_util                                      149                0.1\n",
       "all_util                                         28                0.0\n",
       "pct_tl_nvr_dlq                                    1                0.0"
      ]
     },
     "execution_count": 124,
     "metadata": {},
     "output_type": "execute_result"
    }
   ],
   "source": [
    "def missing_values_table(df):\n",
    "        mis_val = df.isnull().sum()\n",
    "        mis_val_percent = 100 * df.isnull().sum() / len(df)\n",
    "        mis_val_table = pd.concat([mis_val, mis_val_percent], axis=1)\n",
    "        mis_val_table_ren_columns = mis_val_table.rename(\n",
    "        columns = {0 : 'Missing Values', 1 : '% of Total Values'})\n",
    "        mis_val_table_ren_columns = mis_val_table_ren_columns[\n",
    "        mis_val_table_ren_columns.iloc[:,1] != 0].sort_values(\n",
    "        '% of Total Values', ascending=False).round(1)\n",
    "        print (\"Your selected dataframe has \" + str(df.shape[1]) + \" columns.\\n\"      \n",
    "        \"There are \" + str(mis_val_table_ren_columns.shape[0]) +\n",
    "        \"columns that have missing values.\")\n",
    "        return mis_val_table_ren_columns\n",
    "\n",
    "missing_table = missing_values_table(df)\n",
    "missing_table"
   ]
  },
  {
   "cell_type": "code",
   "execution_count": 26,
   "metadata": {},
   "outputs": [
    {
     "data": {
      "text/plain": [
       "NaN      102437\n",
       "1.0         207\n",
       "2.0         116\n",
       "12.0        104\n",
       "13.0        101\n",
       "          ...  \n",
       "102.0         1\n",
       "109.0         1\n",
       "87.0          1\n",
       "110.0         1\n",
       "108.0         1\n",
       "Name: sec_app_mths_since_last_major_derog, Length: 111, dtype: int64"
      ]
     },
     "execution_count": 26,
     "metadata": {},
     "output_type": "execute_result"
    }
   ],
   "source": [
    "# sec_app_mths_since_last_major_derog: Months since most recent 90-day or worse rating at time of application for the secondary applicant\n",
    "df['sec_app_mths_since_last_major_derog'].value_counts(dropna=False)"
   ]
  },
  {
   "cell_type": "code",
   "execution_count": 32,
   "metadata": {},
   "outputs": [
    {
     "data": {
      "text/html": [
       "<div>\n",
       "<style scoped>\n",
       "    .dataframe tbody tr th:only-of-type {\n",
       "        vertical-align: middle;\n",
       "    }\n",
       "\n",
       "    .dataframe tbody tr th {\n",
       "        vertical-align: top;\n",
       "    }\n",
       "\n",
       "    .dataframe thead th {\n",
       "        text-align: right;\n",
       "    }\n",
       "</style>\n",
       "<table border=\"1\" class=\"dataframe\">\n",
       "  <thead>\n",
       "    <tr style=\"text-align: right;\">\n",
       "      <th></th>\n",
       "      <th>loan_amnt</th>\n",
       "      <th>term</th>\n",
       "      <th>int_rate</th>\n",
       "      <th>grade</th>\n",
       "      <th>sub_grade</th>\n",
       "      <th>emp_length</th>\n",
       "      <th>home_ownership</th>\n",
       "      <th>annual_inc</th>\n",
       "      <th>verification_status</th>\n",
       "      <th>loan_status</th>\n",
       "      <th>...</th>\n",
       "      <th>sec_app_inq_last_6mths</th>\n",
       "      <th>sec_app_mort_acc</th>\n",
       "      <th>sec_app_open_acc</th>\n",
       "      <th>sec_app_revol_util</th>\n",
       "      <th>sec_app_open_act_il</th>\n",
       "      <th>sec_app_num_rev_accts</th>\n",
       "      <th>sec_app_chargeoff_within_12_mths</th>\n",
       "      <th>sec_app_collections_12_mths_ex_med</th>\n",
       "      <th>sec_app_mths_since_last_major_derog</th>\n",
       "      <th>loan_status_1</th>\n",
       "    </tr>\n",
       "  </thead>\n",
       "  <tbody>\n",
       "    <tr>\n",
       "      <th>230</th>\n",
       "      <td>25000.0</td>\n",
       "      <td>60 months</td>\n",
       "      <td>15.04</td>\n",
       "      <td>C</td>\n",
       "      <td>C4</td>\n",
       "      <td>NaN</td>\n",
       "      <td>OWN</td>\n",
       "      <td>50000.0</td>\n",
       "      <td>Not Verified</td>\n",
       "      <td>Fully Paid</td>\n",
       "      <td>...</td>\n",
       "      <td>0.0</td>\n",
       "      <td>1.0</td>\n",
       "      <td>30.0</td>\n",
       "      <td>81.8</td>\n",
       "      <td>5.0</td>\n",
       "      <td>31.0</td>\n",
       "      <td>0.0</td>\n",
       "      <td>1.0</td>\n",
       "      <td>0.0</td>\n",
       "      <td>0</td>\n",
       "    </tr>\n",
       "    <tr>\n",
       "      <th>575</th>\n",
       "      <td>5500.0</td>\n",
       "      <td>36 months</td>\n",
       "      <td>13.58</td>\n",
       "      <td>C</td>\n",
       "      <td>C2</td>\n",
       "      <td>10+ years</td>\n",
       "      <td>RENT</td>\n",
       "      <td>51000.0</td>\n",
       "      <td>Not Verified</td>\n",
       "      <td>Charged Off</td>\n",
       "      <td>...</td>\n",
       "      <td>2.0</td>\n",
       "      <td>0.0</td>\n",
       "      <td>7.0</td>\n",
       "      <td>82.3</td>\n",
       "      <td>3.0</td>\n",
       "      <td>10.0</td>\n",
       "      <td>0.0</td>\n",
       "      <td>1.0</td>\n",
       "      <td>0.0</td>\n",
       "      <td>1</td>\n",
       "    </tr>\n",
       "    <tr>\n",
       "      <th>904</th>\n",
       "      <td>8000.0</td>\n",
       "      <td>36 months</td>\n",
       "      <td>15.04</td>\n",
       "      <td>C</td>\n",
       "      <td>C4</td>\n",
       "      <td>2 years</td>\n",
       "      <td>RENT</td>\n",
       "      <td>23000.0</td>\n",
       "      <td>Verified</td>\n",
       "      <td>Fully Paid</td>\n",
       "      <td>...</td>\n",
       "      <td>0.0</td>\n",
       "      <td>0.0</td>\n",
       "      <td>2.0</td>\n",
       "      <td>87.4</td>\n",
       "      <td>1.0</td>\n",
       "      <td>1.0</td>\n",
       "      <td>0.0</td>\n",
       "      <td>2.0</td>\n",
       "      <td>0.0</td>\n",
       "      <td>0</td>\n",
       "    </tr>\n",
       "    <tr>\n",
       "      <th>1876</th>\n",
       "      <td>12000.0</td>\n",
       "      <td>36 months</td>\n",
       "      <td>22.90</td>\n",
       "      <td>E</td>\n",
       "      <td>E1</td>\n",
       "      <td>&lt; 1 year</td>\n",
       "      <td>OWN</td>\n",
       "      <td>20000.0</td>\n",
       "      <td>Not Verified</td>\n",
       "      <td>Fully Paid</td>\n",
       "      <td>...</td>\n",
       "      <td>2.0</td>\n",
       "      <td>0.0</td>\n",
       "      <td>11.0</td>\n",
       "      <td>64.0</td>\n",
       "      <td>4.0</td>\n",
       "      <td>11.0</td>\n",
       "      <td>0.0</td>\n",
       "      <td>0.0</td>\n",
       "      <td>0.0</td>\n",
       "      <td>0</td>\n",
       "    </tr>\n",
       "    <tr>\n",
       "      <th>3137</th>\n",
       "      <td>30000.0</td>\n",
       "      <td>60 months</td>\n",
       "      <td>26.77</td>\n",
       "      <td>E</td>\n",
       "      <td>E5</td>\n",
       "      <td>4 years</td>\n",
       "      <td>MORTGAGE</td>\n",
       "      <td>58000.0</td>\n",
       "      <td>Not Verified</td>\n",
       "      <td>Current</td>\n",
       "      <td>...</td>\n",
       "      <td>1.0</td>\n",
       "      <td>1.0</td>\n",
       "      <td>10.0</td>\n",
       "      <td>93.7</td>\n",
       "      <td>3.0</td>\n",
       "      <td>10.0</td>\n",
       "      <td>0.0</td>\n",
       "      <td>0.0</td>\n",
       "      <td>0.0</td>\n",
       "      <td>0</td>\n",
       "    </tr>\n",
       "    <tr>\n",
       "      <th>...</th>\n",
       "      <td>...</td>\n",
       "      <td>...</td>\n",
       "      <td>...</td>\n",
       "      <td>...</td>\n",
       "      <td>...</td>\n",
       "      <td>...</td>\n",
       "      <td>...</td>\n",
       "      <td>...</td>\n",
       "      <td>...</td>\n",
       "      <td>...</td>\n",
       "      <td>...</td>\n",
       "      <td>...</td>\n",
       "      <td>...</td>\n",
       "      <td>...</td>\n",
       "      <td>...</td>\n",
       "      <td>...</td>\n",
       "      <td>...</td>\n",
       "      <td>...</td>\n",
       "      <td>...</td>\n",
       "      <td>...</td>\n",
       "      <td>...</td>\n",
       "    </tr>\n",
       "    <tr>\n",
       "      <th>104450</th>\n",
       "      <td>25000.0</td>\n",
       "      <td>60 months</td>\n",
       "      <td>12.62</td>\n",
       "      <td>C</td>\n",
       "      <td>C1</td>\n",
       "      <td>10+ years</td>\n",
       "      <td>MORTGAGE</td>\n",
       "      <td>57000.0</td>\n",
       "      <td>Not Verified</td>\n",
       "      <td>Current</td>\n",
       "      <td>...</td>\n",
       "      <td>0.0</td>\n",
       "      <td>1.0</td>\n",
       "      <td>7.0</td>\n",
       "      <td>91.9</td>\n",
       "      <td>3.0</td>\n",
       "      <td>6.0</td>\n",
       "      <td>1.0</td>\n",
       "      <td>1.0</td>\n",
       "      <td>0.0</td>\n",
       "      <td>0</td>\n",
       "    </tr>\n",
       "    <tr>\n",
       "      <th>105298</th>\n",
       "      <td>12000.0</td>\n",
       "      <td>36 months</td>\n",
       "      <td>9.44</td>\n",
       "      <td>B</td>\n",
       "      <td>B1</td>\n",
       "      <td>10+ years</td>\n",
       "      <td>MORTGAGE</td>\n",
       "      <td>70000.0</td>\n",
       "      <td>Verified</td>\n",
       "      <td>Charged Off</td>\n",
       "      <td>...</td>\n",
       "      <td>0.0</td>\n",
       "      <td>0.0</td>\n",
       "      <td>15.0</td>\n",
       "      <td>143.2</td>\n",
       "      <td>14.0</td>\n",
       "      <td>2.0</td>\n",
       "      <td>0.0</td>\n",
       "      <td>0.0</td>\n",
       "      <td>0.0</td>\n",
       "      <td>1</td>\n",
       "    </tr>\n",
       "    <tr>\n",
       "      <th>105477</th>\n",
       "      <td>8000.0</td>\n",
       "      <td>36 months</td>\n",
       "      <td>6.72</td>\n",
       "      <td>A</td>\n",
       "      <td>A3</td>\n",
       "      <td>10+ years</td>\n",
       "      <td>MORTGAGE</td>\n",
       "      <td>70000.0</td>\n",
       "      <td>Not Verified</td>\n",
       "      <td>Fully Paid</td>\n",
       "      <td>...</td>\n",
       "      <td>0.0</td>\n",
       "      <td>2.0</td>\n",
       "      <td>13.0</td>\n",
       "      <td>49.6</td>\n",
       "      <td>4.0</td>\n",
       "      <td>12.0</td>\n",
       "      <td>0.0</td>\n",
       "      <td>0.0</td>\n",
       "      <td>0.0</td>\n",
       "      <td>0</td>\n",
       "    </tr>\n",
       "    <tr>\n",
       "      <th>107475</th>\n",
       "      <td>10000.0</td>\n",
       "      <td>60 months</td>\n",
       "      <td>18.06</td>\n",
       "      <td>D</td>\n",
       "      <td>D2</td>\n",
       "      <td>NaN</td>\n",
       "      <td>MORTGAGE</td>\n",
       "      <td>26845.0</td>\n",
       "      <td>Not Verified</td>\n",
       "      <td>Charged Off</td>\n",
       "      <td>...</td>\n",
       "      <td>0.0</td>\n",
       "      <td>0.0</td>\n",
       "      <td>16.0</td>\n",
       "      <td>82.6</td>\n",
       "      <td>0.0</td>\n",
       "      <td>22.0</td>\n",
       "      <td>3.0</td>\n",
       "      <td>0.0</td>\n",
       "      <td>0.0</td>\n",
       "      <td>1</td>\n",
       "    </tr>\n",
       "    <tr>\n",
       "      <th>107796</th>\n",
       "      <td>8600.0</td>\n",
       "      <td>36 months</td>\n",
       "      <td>19.03</td>\n",
       "      <td>D</td>\n",
       "      <td>D3</td>\n",
       "      <td>NaN</td>\n",
       "      <td>OWN</td>\n",
       "      <td>28000.0</td>\n",
       "      <td>Not Verified</td>\n",
       "      <td>Charged Off</td>\n",
       "      <td>...</td>\n",
       "      <td>2.0</td>\n",
       "      <td>0.0</td>\n",
       "      <td>12.0</td>\n",
       "      <td>52.4</td>\n",
       "      <td>4.0</td>\n",
       "      <td>20.0</td>\n",
       "      <td>0.0</td>\n",
       "      <td>0.0</td>\n",
       "      <td>0.0</td>\n",
       "      <td>1</td>\n",
       "    </tr>\n",
       "  </tbody>\n",
       "</table>\n",
       "<p>76 rows × 81 columns</p>\n",
       "</div>"
      ],
      "text/plain": [
       "        loan_amnt        term  int_rate grade sub_grade emp_length  \\\n",
       "230       25000.0   60 months     15.04     C        C4        NaN   \n",
       "575        5500.0   36 months     13.58     C        C2  10+ years   \n",
       "904        8000.0   36 months     15.04     C        C4    2 years   \n",
       "1876      12000.0   36 months     22.90     E        E1   < 1 year   \n",
       "3137      30000.0   60 months     26.77     E        E5    4 years   \n",
       "...           ...         ...       ...   ...       ...        ...   \n",
       "104450    25000.0   60 months     12.62     C        C1  10+ years   \n",
       "105298    12000.0   36 months      9.44     B        B1  10+ years   \n",
       "105477     8000.0   36 months      6.72     A        A3  10+ years   \n",
       "107475    10000.0   60 months     18.06     D        D2        NaN   \n",
       "107796     8600.0   36 months     19.03     D        D3        NaN   \n",
       "\n",
       "       home_ownership  annual_inc verification_status  loan_status  ...  \\\n",
       "230               OWN     50000.0        Not Verified   Fully Paid  ...   \n",
       "575              RENT     51000.0        Not Verified  Charged Off  ...   \n",
       "904              RENT     23000.0            Verified   Fully Paid  ...   \n",
       "1876              OWN     20000.0        Not Verified   Fully Paid  ...   \n",
       "3137         MORTGAGE     58000.0        Not Verified      Current  ...   \n",
       "...               ...         ...                 ...          ...  ...   \n",
       "104450       MORTGAGE     57000.0        Not Verified      Current  ...   \n",
       "105298       MORTGAGE     70000.0            Verified  Charged Off  ...   \n",
       "105477       MORTGAGE     70000.0        Not Verified   Fully Paid  ...   \n",
       "107475       MORTGAGE     26845.0        Not Verified  Charged Off  ...   \n",
       "107796            OWN     28000.0        Not Verified  Charged Off  ...   \n",
       "\n",
       "       sec_app_inq_last_6mths sec_app_mort_acc sec_app_open_acc  \\\n",
       "230                       0.0              1.0             30.0   \n",
       "575                       2.0              0.0              7.0   \n",
       "904                       0.0              0.0              2.0   \n",
       "1876                      2.0              0.0             11.0   \n",
       "3137                      1.0              1.0             10.0   \n",
       "...                       ...              ...              ...   \n",
       "104450                    0.0              1.0              7.0   \n",
       "105298                    0.0              0.0             15.0   \n",
       "105477                    0.0              2.0             13.0   \n",
       "107475                    0.0              0.0             16.0   \n",
       "107796                    2.0              0.0             12.0   \n",
       "\n",
       "        sec_app_revol_util  sec_app_open_act_il sec_app_num_rev_accts  \\\n",
       "230                   81.8                  5.0                  31.0   \n",
       "575                   82.3                  3.0                  10.0   \n",
       "904                   87.4                  1.0                   1.0   \n",
       "1876                  64.0                  4.0                  11.0   \n",
       "3137                  93.7                  3.0                  10.0   \n",
       "...                    ...                  ...                   ...   \n",
       "104450                91.9                  3.0                   6.0   \n",
       "105298               143.2                 14.0                   2.0   \n",
       "105477                49.6                  4.0                  12.0   \n",
       "107475                82.6                  0.0                  22.0   \n",
       "107796                52.4                  4.0                  20.0   \n",
       "\n",
       "        sec_app_chargeoff_within_12_mths  sec_app_collections_12_mths_ex_med  \\\n",
       "230                                  0.0                                 1.0   \n",
       "575                                  0.0                                 1.0   \n",
       "904                                  0.0                                 2.0   \n",
       "1876                                 0.0                                 0.0   \n",
       "3137                                 0.0                                 0.0   \n",
       "...                                  ...                                 ...   \n",
       "104450                               1.0                                 1.0   \n",
       "105298                               0.0                                 0.0   \n",
       "105477                               0.0                                 0.0   \n",
       "107475                               3.0                                 0.0   \n",
       "107796                               0.0                                 0.0   \n",
       "\n",
       "        sec_app_mths_since_last_major_derog  loan_status_1  \n",
       "230                                     0.0              0  \n",
       "575                                     0.0              1  \n",
       "904                                     0.0              0  \n",
       "1876                                    0.0              0  \n",
       "3137                                    0.0              0  \n",
       "...                                     ...            ...  \n",
       "104450                                  0.0              0  \n",
       "105298                                  0.0              1  \n",
       "105477                                  0.0              0  \n",
       "107475                                  0.0              1  \n",
       "107796                                  0.0              1  \n",
       "\n",
       "[76 rows x 81 columns]"
      ]
     },
     "execution_count": 32,
     "metadata": {},
     "output_type": "execute_result"
    }
   ],
   "source": [
    "# check if there is 0 appearing on sec_app_mths_since_last_major_derog, if not, it means that the missing value may \n",
    "# stand for the people do not have any record of Derogatory. However, the result shows that there are 76 loans with zero derogatory record. \n",
    "\n",
    "df[df['sec_app_mths_since_last_major_derog']==0]"
   ]
  },
  {
   "cell_type": "code",
   "execution_count": 125,
   "metadata": {},
   "outputs": [],
   "source": [
    "# Therefore, it is reasonable to drop this variable due to randomly miss. \n",
    "df.drop(columns=['sec_app_mths_since_last_major_derog'],inplace=True)"
   ]
  },
  {
   "cell_type": "code",
   "execution_count": 126,
   "metadata": {},
   "outputs": [
    {
     "data": {
      "text/plain": [
       "NaN      0.858442\n",
       "94.0     0.002772\n",
       "82.0     0.002744\n",
       "92.0     0.002503\n",
       "84.0     0.002503\n",
       "           ...   \n",
       "121.0    0.000037\n",
       "1.0      0.000028\n",
       "2.0      0.000019\n",
       "124.0    0.000019\n",
       "122.0    0.000009\n",
       "Name: mths_since_last_record, Length: 125, dtype: float64"
      ]
     },
     "execution_count": 126,
     "metadata": {},
     "output_type": "execute_result"
    }
   ],
   "source": [
    "# mths_since_last_record\n",
    "df['mths_since_last_record'].value_counts(dropna=False, normalize=True,ascending=False)"
   ]
  },
  {
   "cell_type": "code",
   "execution_count": 127,
   "metadata": {},
   "outputs": [
    {
     "data": {
      "text/plain": [
       "NaN                0.851507\n",
       "Not Verified       0.067817\n",
       "Source Verified    0.047819\n",
       "Verified           0.032856\n",
       "Name: verification_status_joint, dtype: float64"
      ]
     },
     "execution_count": 127,
     "metadata": {},
     "output_type": "execute_result"
    }
   ],
   "source": [
    "df['verification_status_joint'].value_counts(dropna=False,normalize=True)"
   ]
  },
  {
   "cell_type": "code",
   "execution_count": 128,
   "metadata": {},
   "outputs": [],
   "source": [
    "df['verification_status_joint'] = df['verification_status_joint'].fillna(value='other')"
   ]
  },
  {
   "cell_type": "code",
   "execution_count": 129,
   "metadata": {},
   "outputs": [
    {
     "data": {
      "text/plain": [
       "other              0.851507\n",
       "Not Verified       0.067817\n",
       "Source Verified    0.047819\n",
       "Verified           0.032856\n",
       "Name: verification_status_joint, dtype: float64"
      ]
     },
     "execution_count": 129,
     "metadata": {},
     "output_type": "execute_result"
    }
   ],
   "source": [
    "df['verification_status_joint'].value_counts(dropna=False,normalize=True)"
   ]
  },
  {
   "cell_type": "code",
   "execution_count": 130,
   "metadata": {},
   "outputs": [
    {
     "data": {
      "text/plain": [
       "[0         False\n",
       " 1         False\n",
       " 2         False\n",
       " 3         False\n",
       " 4         False\n",
       "           ...  \n",
       " 107859    False\n",
       " 107860    False\n",
       " 107861    False\n",
       " 107862    False\n",
       " 107863    False\n",
       " Name: mths_since_last_record, Length: 107864, dtype: bool]"
      ]
     },
     "execution_count": 130,
     "metadata": {},
     "output_type": "execute_result"
    }
   ],
   "source": [
    "# There is loan with 0 and it could be reasonably assunped that all the missing value could be filled as 0\n",
    "[df['mths_since_last_record']==0]"
   ]
  },
  {
   "cell_type": "code",
   "execution_count": 131,
   "metadata": {},
   "outputs": [],
   "source": [
    "# From reading carefully about the Lending Club Data Dictionary, the following variables could be filled as 0.\n",
    "miss_cols =['mths_since_last_record','sec_app_revol_util','sec_app_inq_last_6mths','revol_bal_joint','sec_app_mort_acc','sec_app_open_acc','sec_app_open_act_il',\n",
    "   'sec_app_num_rev_accts','sec_app_chargeoff_within_12_mths','sec_app_collections_12_mths_ex_med','dti_joint','annual_inc_joint','sec_app_fico_range_low',\n",
    "   'mths_since_recent_bc_dlq','mths_since_last_major_derog','mths_since_last_delinq']\n",
    "for col in miss_cols:\n",
    "    df[col].fillna(0,inplace=True)"
   ]
  },
  {
   "cell_type": "code",
   "execution_count": 132,
   "metadata": {},
   "outputs": [
    {
     "name": "stdout",
     "output_type": "stream",
     "text": [
      "Your selected dataframe has 79 columns.\n",
      "There are 12columns that have missing values.\n"
     ]
    },
    {
     "data": {
      "text/html": [
       "<div>\n",
       "<style scoped>\n",
       "    .dataframe tbody tr th:only-of-type {\n",
       "        vertical-align: middle;\n",
       "    }\n",
       "\n",
       "    .dataframe tbody tr th {\n",
       "        vertical-align: top;\n",
       "    }\n",
       "\n",
       "    .dataframe thead th {\n",
       "        text-align: right;\n",
       "    }\n",
       "</style>\n",
       "<table border=\"1\" class=\"dataframe\">\n",
       "  <thead>\n",
       "    <tr style=\"text-align: right;\">\n",
       "      <th></th>\n",
       "      <th>Missing Values</th>\n",
       "      <th>% of Total Values</th>\n",
       "    </tr>\n",
       "  </thead>\n",
       "  <tbody>\n",
       "    <tr>\n",
       "      <th>il_util</th>\n",
       "      <td>17984</td>\n",
       "      <td>16.7</td>\n",
       "    </tr>\n",
       "    <tr>\n",
       "      <th>mths_since_recent_inq</th>\n",
       "      <td>13648</td>\n",
       "      <td>12.7</td>\n",
       "    </tr>\n",
       "    <tr>\n",
       "      <th>emp_length</th>\n",
       "      <td>9428</td>\n",
       "      <td>8.7</td>\n",
       "    </tr>\n",
       "    <tr>\n",
       "      <th>mths_since_rcnt_il</th>\n",
       "      <td>4288</td>\n",
       "      <td>4.0</td>\n",
       "    </tr>\n",
       "    <tr>\n",
       "      <th>mo_sin_old_il_acct</th>\n",
       "      <td>4288</td>\n",
       "      <td>4.0</td>\n",
       "    </tr>\n",
       "    <tr>\n",
       "      <th>bc_util</th>\n",
       "      <td>1561</td>\n",
       "      <td>1.4</td>\n",
       "    </tr>\n",
       "    <tr>\n",
       "      <th>bc_open_to_buy</th>\n",
       "      <td>1510</td>\n",
       "      <td>1.4</td>\n",
       "    </tr>\n",
       "    <tr>\n",
       "      <th>mths_since_recent_bc</th>\n",
       "      <td>1421</td>\n",
       "      <td>1.3</td>\n",
       "    </tr>\n",
       "    <tr>\n",
       "      <th>dti</th>\n",
       "      <td>262</td>\n",
       "      <td>0.2</td>\n",
       "    </tr>\n",
       "    <tr>\n",
       "      <th>revol_util</th>\n",
       "      <td>149</td>\n",
       "      <td>0.1</td>\n",
       "    </tr>\n",
       "    <tr>\n",
       "      <th>all_util</th>\n",
       "      <td>28</td>\n",
       "      <td>0.0</td>\n",
       "    </tr>\n",
       "    <tr>\n",
       "      <th>pct_tl_nvr_dlq</th>\n",
       "      <td>1</td>\n",
       "      <td>0.0</td>\n",
       "    </tr>\n",
       "  </tbody>\n",
       "</table>\n",
       "</div>"
      ],
      "text/plain": [
       "                       Missing Values  % of Total Values\n",
       "il_util                         17984               16.7\n",
       "mths_since_recent_inq           13648               12.7\n",
       "emp_length                       9428                8.7\n",
       "mths_since_rcnt_il               4288                4.0\n",
       "mo_sin_old_il_acct               4288                4.0\n",
       "bc_util                          1561                1.4\n",
       "bc_open_to_buy                   1510                1.4\n",
       "mths_since_recent_bc             1421                1.3\n",
       "dti                               262                0.2\n",
       "revol_util                        149                0.1\n",
       "all_util                           28                0.0\n",
       "pct_tl_nvr_dlq                      1                0.0"
      ]
     },
     "execution_count": 132,
     "metadata": {},
     "output_type": "execute_result"
    }
   ],
   "source": [
    "# Now there are still some of columns filling with missing value \n",
    "missing_table = missing_values_table(df)\n",
    "missing_table"
   ]
  },
  {
   "cell_type": "code",
   "execution_count": 133,
   "metadata": {},
   "outputs": [],
   "source": [
    "# All the missing value of other varilables are filled with median, but not emp_lenght. "
   ]
  },
  {
   "cell_type": "code",
   "execution_count": 134,
   "metadata": {},
   "outputs": [],
   "source": [
    "miss_cols = ['il_util','mths_since_recent_inq','mths_since_rcnt_il','mo_sin_old_il_acct','bc_util','bc_open_to_buy','mths_since_recent_bc',\n",
    "            'dti','all_util','pct_tl_nvr_dlq','revol_util']\n",
    "for col in miss_cols:\n",
    "    df[col].fillna(df[col].median(),inplace=True)\n"
   ]
  },
  {
   "cell_type": "code",
   "execution_count": 135,
   "metadata": {},
   "outputs": [
    {
     "data": {
      "text/plain": [
       "10+ years    35706\n",
       "2 years      10191\n",
       "NaN           9428\n",
       "3 years       9179\n",
       "< 1 year      7339\n",
       "1 year        7169\n",
       "4 years       6918\n",
       "5 years       6815\n",
       "6 years       4716\n",
       "7 years       4002\n",
       "8 years       3278\n",
       "9 years       3123\n",
       "Name: emp_length, dtype: int64"
      ]
     },
     "execution_count": 135,
     "metadata": {},
     "output_type": "execute_result"
    }
   ],
   "source": [
    "df['emp_length'].value_counts(dropna=False)"
   ]
  },
  {
   "cell_type": "code",
   "execution_count": 136,
   "metadata": {},
   "outputs": [],
   "source": [
    "# Replace missing values with the most common class\n",
    "df['emp_length'] = df[['emp_length']].apply(lambda x:x.fillna(x.value_counts().index[0]))"
   ]
  },
  {
   "cell_type": "code",
   "execution_count": 137,
   "metadata": {},
   "outputs": [
    {
     "data": {
      "text/plain": [
       "10+ years    45134\n",
       "2 years      10191\n",
       "3 years       9179\n",
       "< 1 year      7339\n",
       "1 year        7169\n",
       "4 years       6918\n",
       "5 years       6815\n",
       "6 years       4716\n",
       "7 years       4002\n",
       "8 years       3278\n",
       "9 years       3123\n",
       "Name: emp_length, dtype: int64"
      ]
     },
     "execution_count": 137,
     "metadata": {},
     "output_type": "execute_result"
    }
   ],
   "source": [
    "df['emp_length'].value_counts(dropna=False)"
   ]
  },
  {
   "cell_type": "code",
   "execution_count": 138,
   "metadata": {},
   "outputs": [
    {
     "name": "stdout",
     "output_type": "stream",
     "text": [
      "Your selected dataframe has 79 columns.\n",
      "There are 0columns that have missing values.\n"
     ]
    },
    {
     "data": {
      "text/html": [
       "<div>\n",
       "<style scoped>\n",
       "    .dataframe tbody tr th:only-of-type {\n",
       "        vertical-align: middle;\n",
       "    }\n",
       "\n",
       "    .dataframe tbody tr th {\n",
       "        vertical-align: top;\n",
       "    }\n",
       "\n",
       "    .dataframe thead th {\n",
       "        text-align: right;\n",
       "    }\n",
       "</style>\n",
       "<table border=\"1\" class=\"dataframe\">\n",
       "  <thead>\n",
       "    <tr style=\"text-align: right;\">\n",
       "      <th></th>\n",
       "      <th>Missing Values</th>\n",
       "      <th>% of Total Values</th>\n",
       "    </tr>\n",
       "  </thead>\n",
       "  <tbody>\n",
       "  </tbody>\n",
       "</table>\n",
       "</div>"
      ],
      "text/plain": [
       "Empty DataFrame\n",
       "Columns: [Missing Values, % of Total Values]\n",
       "Index: []"
      ]
     },
     "execution_count": 138,
     "metadata": {},
     "output_type": "execute_result"
    }
   ],
   "source": [
    "# Now there is no missing value in the dataset anymore. \n",
    "missing_table = missing_values_table(df)\n",
    "missing_table"
   ]
  },
  {
   "cell_type": "markdown",
   "metadata": {},
   "source": [
    "# Numerical variable transformation \n",
    "Conduct transformation for some variables with some extreme outliers"
   ]
  },
  {
   "cell_type": "markdown",
   "metadata": {},
   "source": [
    "## Log Transformation  "
   ]
  },
  {
   "cell_type": "markdown",
   "metadata": {},
   "source": [
    "According to the analysis result in phase two, we know that the distribution of these two numerical variables, dti and annual_inc,are rather right skew.  "
   ]
  },
  {
   "cell_type": "code",
   "execution_count": 139,
   "metadata": {},
   "outputs": [],
   "source": [
    "from sklearn.preprocessing import PowerTransformer"
   ]
  },
  {
   "cell_type": "code",
   "execution_count": 140,
   "metadata": {},
   "outputs": [],
   "source": [
    "pow_trans = PowerTransformer()\n",
    "pow_trans.fit(df[['dti']])\n",
    "df['dti_log'] = pow_trans.transform(df[['dti']])"
   ]
  },
  {
   "cell_type": "code",
   "execution_count": 141,
   "metadata": {},
   "outputs": [
    {
     "data": {
      "image/png": "[encoded data removed]",
      "text/plain": [
       "<Figure size 432x288 with 2 Axes>"
      ]
     },
     "metadata": {
      "needs_background": "light"
     },
     "output_type": "display_data"
    }
   ],
   "source": [
    "# plot the data before and after the transformation, and we could clearly know that the dti become more normal after log transformation\n",
    "df[['dti','dti_log']].hist()\n",
    "plt.show()"
   ]
  },
  {
   "cell_type": "code",
   "execution_count": 142,
   "metadata": {},
   "outputs": [
    {
     "data": {
      "image/png": "[encoded data removed]",
      "text/plain": [
       "<Figure size 432x288 with 2 Axes>"
      ]
     },
     "metadata": {
      "needs_background": "light"
     },
     "output_type": "display_data"
    }
   ],
   "source": [
    "# The below histogram shows that the distrannual_inc \n",
    "pow_trans.fit(df[['annual_inc']])\n",
    "df['annual_inc_log'] = pow_trans.transform(df[['annual_inc']])\n",
    "df[['annual_inc','annual_inc_log']].hist()\n",
    "plt.show()"
   ]
  },
  {
   "cell_type": "code",
   "execution_count": 143,
   "metadata": {},
   "outputs": [],
   "source": [
    "df.drop(columns=['annual_inc','dti'],inplace=True)"
   ]
  },
  {
   "cell_type": "markdown",
   "metadata": {},
   "source": [
    "# Categorical variable transformation "
   ]
  },
  {
   "cell_type": "code",
   "execution_count": 149,
   "metadata": {},
   "outputs": [],
   "source": [
    "cat_variables = list(df.select_dtypes(include=['object']).columns)"
   ]
  },
  {
   "cell_type": "code",
   "execution_count": 150,
   "metadata": {},
   "outputs": [
    {
     "data": {
      "text/plain": [
       "['term',\n",
       " 'grade',\n",
       " 'sub_grade',\n",
       " 'emp_length',\n",
       " 'home_ownership',\n",
       " 'verification_status',\n",
       " 'purpose',\n",
       " 'title',\n",
       " 'initial_list_status',\n",
       " 'application_type',\n",
       " 'verification_status_joint']"
      ]
     },
     "execution_count": 150,
     "metadata": {},
     "output_type": "execute_result"
    }
   ],
   "source": [
    "cat_variables"
   ]
  },
  {
   "cell_type": "code",
   "execution_count": 151,
   "metadata": {},
   "outputs": [
    {
     "data": {
      "text/html": [
       "<div>\n",
       "<style scoped>\n",
       "    .dataframe tbody tr th:only-of-type {\n",
       "        vertical-align: middle;\n",
       "    }\n",
       "\n",
       "    .dataframe tbody tr th {\n",
       "        vertical-align: top;\n",
       "    }\n",
       "\n",
       "    .dataframe thead th {\n",
       "        text-align: right;\n",
       "    }\n",
       "</style>\n",
       "<table border=\"1\" class=\"dataframe\">\n",
       "  <thead>\n",
       "    <tr style=\"text-align: right;\">\n",
       "      <th></th>\n",
       "      <th>VarName</th>\n",
       "      <th>LevelsCount</th>\n",
       "    </tr>\n",
       "  </thead>\n",
       "  <tbody>\n",
       "    <tr>\n",
       "      <th>2</th>\n",
       "      <td>sub_grade</td>\n",
       "      <td>35</td>\n",
       "    </tr>\n",
       "    <tr>\n",
       "      <th>6</th>\n",
       "      <td>purpose</td>\n",
       "      <td>13</td>\n",
       "    </tr>\n",
       "    <tr>\n",
       "      <th>7</th>\n",
       "      <td>title</td>\n",
       "      <td>12</td>\n",
       "    </tr>\n",
       "    <tr>\n",
       "      <th>3</th>\n",
       "      <td>emp_length</td>\n",
       "      <td>11</td>\n",
       "    </tr>\n",
       "    <tr>\n",
       "      <th>1</th>\n",
       "      <td>grade</td>\n",
       "      <td>7</td>\n",
       "    </tr>\n",
       "    <tr>\n",
       "      <th>4</th>\n",
       "      <td>home_ownership</td>\n",
       "      <td>4</td>\n",
       "    </tr>\n",
       "    <tr>\n",
       "      <th>10</th>\n",
       "      <td>verification_status_joint</td>\n",
       "      <td>4</td>\n",
       "    </tr>\n",
       "    <tr>\n",
       "      <th>5</th>\n",
       "      <td>verification_status</td>\n",
       "      <td>3</td>\n",
       "    </tr>\n",
       "    <tr>\n",
       "      <th>0</th>\n",
       "      <td>term</td>\n",
       "      <td>2</td>\n",
       "    </tr>\n",
       "    <tr>\n",
       "      <th>8</th>\n",
       "      <td>initial_list_status</td>\n",
       "      <td>2</td>\n",
       "    </tr>\n",
       "    <tr>\n",
       "      <th>9</th>\n",
       "      <td>application_type</td>\n",
       "      <td>2</td>\n",
       "    </tr>\n",
       "  </tbody>\n",
       "</table>\n",
       "</div>"
      ],
      "text/plain": [
       "                      VarName  LevelsCount\n",
       "2                   sub_grade           35\n",
       "6                     purpose           13\n",
       "7                       title           12\n",
       "3                  emp_length           11\n",
       "1                       grade            7\n",
       "4              home_ownership            4\n",
       "10  verification_status_joint            4\n",
       "5         verification_status            3\n",
       "0                        term            2\n",
       "8         initial_list_status            2\n",
       "9            application_type            2"
      ]
     },
     "execution_count": 151,
     "metadata": {},
     "output_type": "execute_result"
    }
   ],
   "source": [
    "# Understand the categorical columns and their associated \n",
    "vn = pd.DataFrame(df[cat_variables].nunique()).reset_index()\n",
    "vn.columns = ['VarName', 'LevelsCount']\n",
    "vn = vn.sort_values(by='LevelsCount',ascending= False)\n",
    "vn"
   ]
  },
  {
   "cell_type": "code",
   "execution_count": null,
   "metadata": {},
   "outputs": [],
   "source": [
    "# In phase two,conducting bivariate analysis between default_rate and address_state there is no any pattern in these two variables, so 'add_state' could be drop.\n",
    "df.drop(columns= 'addr_state', inplace=True)"
   ]
  },
  {
   "cell_type": "code",
   "execution_count": 153,
   "metadata": {},
   "outputs": [
    {
     "data": {
      "text/plain": [
       "array(['C2', 'A1', 'B5', 'B2', 'D4', 'C5', 'D1', 'C4', 'E3', 'D5', 'A3',\n",
       "       'A4', 'B1', 'B4', 'B3', 'E2', 'C3', 'D2', 'C1', 'G1', 'A5', 'E4',\n",
       "       'A2', 'D3', 'E5', 'F4', 'F1', 'E1', 'F2', 'F3', 'F5', 'G4', 'G2',\n",
       "       'G5', 'G3'], dtype=object)"
      ]
     },
     "execution_count": 153,
     "metadata": {},
     "output_type": "execute_result"
    }
   ],
   "source": [
    "# In phase two, when explore the default_rate Vs grade and default_rate vs sub_grade, they show the similar patter in the plot, \n",
    "# so it's reasonble to drop sub_grade \n",
    "df['sub_grade'].unique()"
   ]
  },
  {
   "cell_type": "code",
   "execution_count": 154,
   "metadata": {},
   "outputs": [],
   "source": [
    "df.drop(columns='sub_grade',inplace=True)"
   ]
  },
  {
   "cell_type": "code",
   "execution_count": 155,
   "metadata": {},
   "outputs": [],
   "source": [
    "# When it comes to verification_status_joint and verification_status, these variables also shows the same pattern interacting with default rate\n",
    "# so verification_status_joint is dropped\n",
    "df.drop(columns='verification_status_joint',inplace=True)"
   ]
  },
  {
   "cell_type": "code",
   "execution_count": 158,
   "metadata": {},
   "outputs": [
    {
     "data": {
      "text/plain": [
       "['sub_grade',\n",
       " 'purpose',\n",
       " 'title',\n",
       " 'emp_length',\n",
       " 'grade',\n",
       " 'home_ownership',\n",
       " 'verification_status_joint',\n",
       " 'verification_status',\n",
       " 'term',\n",
       " 'initial_list_status',\n",
       " 'application_type']"
      ]
     },
     "execution_count": 158,
     "metadata": {},
     "output_type": "execute_result"
    }
   ],
   "source": [
    "list(vn['VarName'])"
   ]
  },
  {
   "cell_type": "code",
   "execution_count": 159,
   "metadata": {},
   "outputs": [],
   "source": [
    "# get dummy for the categorical variables"
   ]
  },
  {
   "cell_type": "code",
   "execution_count": 161,
   "metadata": {},
   "outputs": [],
   "source": [
    "df = pd.get_dummies(df, columns=['purpose', 'title', 'emp_length', 'grade', 'home_ownership', 'verification_status', 'term','initial_list_status', 'application_type'])"
   ]
  },
  {
   "cell_type": "code",
   "execution_count": 162,
   "metadata": {},
   "outputs": [
    {
     "data": {
      "text/plain": [
       "(107864, 123)"
      ]
     },
     "execution_count": 162,
     "metadata": {},
     "output_type": "execute_result"
    }
   ],
   "source": [
    "df.shape"
   ]
  },
  {
   "cell_type": "markdown",
   "metadata": {},
   "source": [
    "# Save the processed dataset"
   ]
  },
  {
   "cell_type": "code",
   "execution_count": 163,
   "metadata": {},
   "outputs": [],
   "source": [
    "df.to_csv(r'D:\\Springboard\\Github\\Lending Club Capstone Project\\Lending Club Updated Version_3.csv',index=False)"
   ]
  }
 ],
 "metadata": {
  "kernelspec": {
   "display_name": "Python 3",
   "language": "python",
   "name": "python3"
  },
  "language_info": {
   "codemirror_mode": {
    "name": "ipython",
    "version": 3
   },
   "file_extension": ".py",
   "mimetype": "text/x-python",
   "name": "python",
   "nbconvert_exporter": "python",
   "pygments_lexer": "ipython3",
   "version": "3.7.3"
  },
  "toc": {
   "base_numbering": 1,
   "nav_menu": {},
   "number_sections": true,
   "sideBar": true,
   "skip_h1_title": false,
   "title_cell": "Table of Contents",
   "title_sidebar": "Contents",
   "toc_cell": false,
   "toc_position": {},
   "toc_section_display": true,
   "toc_window_display": false
  }
 },
 "nbformat": 4,
 "nbformat_minor": 4
}
