{
 "cells": [
  {
   "cell_type": "code",
   "execution_count": 1,
   "metadata": {},
   "outputs": [],
   "source": [
    "import pandas as pd\n",
    "from pandas import Series, DataFrame\n",
    "import numpy as np\n",
    "import matplotlib.pyplot as plt\n",
    "import seaborn as sns\n",
    "plt.rc('figure', figsize = (10,6))"
   ]
  },
  {
   "cell_type": "code",
   "execution_count": 77,
   "metadata": {},
   "outputs": [],
   "source": [
    "%matplotlib inline\n",
    "# Always make it pretty.\n",
    "plt.style.use('ggplot')"
   ]
  },
  {
   "cell_type": "code",
   "execution_count": 2,
   "metadata": {},
   "outputs": [],
   "source": [
    "# Import two datasets\n",
    "colnames = [\"LOAN_ID\", \"ORIG_CHN\", \"Seller.Name\", \"ORIG_RT\", \"ORIG_AMT\", \"ORIG_TRM\", \"ORIG_DTE\",\"FRST_DTE\", \"OLTV\", \n",
    "            \"OCLTV\", \"NUM_BO\", \"DTI\", \"CSCORE_B\", \"FTHB_FLG\", \"PURPOSE\", \"PROP_TYP\",\"NUM_UNIT\", \"OCC_STAT\", \n",
    "            \"STATE\", \"ZIP_3\", \"MI_PCT\", \"Product.Type\", \"CSCORE_C\", \"MI_TYPE\", \"RELOCATION_FLG\"]\n",
    "Data_A = pd.read_table('D:/1-Intern/Project_1/2018Q1/Acquisition_2018Q1.txt', \n",
    "                       sep = '|', header = None, names = colnames)\n",
    "colnames_P = [\"LOAN_ID\", \"Monthly.Rpt.Prd\", \"Servicer.Name\", \"LAST_RT\", \"LAST_UPB\", \"Loan.Age\", \"Months.To.Legal.Mat\", \n",
    "              \"Adj.Month.To.Mat\", \"Maturity.Date\", \"MSA\", \"Delq.Status\", \"MOD_FLAG\", \"Zero.Bal.Code\", \n",
    "              \"ZB_DTE\", \"LPI_DTE\", \"FCC_DTE\",\"DISP_DT\", \"FCC_COST\", \"PP_COST\", \"AR_COST\", \"IE_COST\", \"TAX_COST\", \"NS_PROCS\",\n",
    "              \"CE_PROCS\", \"RMW_PROCS\", \"O_PROCS\", \"NON_INT_UPB\", \"PRIN_FORG_UPB_FHFA\", \"REPCH_FLAG\", \"PRIN_FORG_UPB_OTH\", \"TRANSFER_FLG\"]\n",
    "Data_P = pd.read_table('D:/1-Intern/Project_1/2018Q1/Performance_2018Q1.txt', \n",
    "                       sep = '|', header = None, names = colnames_P,low_memory=False)"
   ]
  },
  {
   "cell_type": "code",
   "execution_count": 3,
   "metadata": {},
   "outputs": [],
   "source": [
    "# Convert string into datetime\n",
    "from datetime import datetime \n",
    "Data_P['Monthly.Rpt.Prd']=[datetime.strptime(x, '%m/%d/%Y') for x in Data_P.loc[:, 'Monthly.Rpt.Prd']]"
   ]
  },
  {
   "cell_type": "code",
   "execution_count": 4,
   "metadata": {},
   "outputs": [],
   "source": [
    "Data_P['Delq.Status_D90']= Data_P['Delq.Status'].replace(['1','2','X'],'0')"
   ]
  },
  {
   "cell_type": "code",
   "execution_count": 6,
   "metadata": {},
   "outputs": [],
   "source": [
    "Data_P['Delq.Status_D90']= Data_P['Delq.Status_D90'].replace(['3','4','5','6','7','8','9','10','11','12',\n",
    "                                                     '13','14','15','16','17','18','19','20','21','22'], '1')"
   ]
  },
  {
   "cell_type": "code",
   "execution_count": 7,
   "metadata": {},
   "outputs": [
    {
     "data": {
      "text/plain": [
       "0    9318346\n",
       "1      13567\n",
       "Name: Delq.Status_D90, dtype: int64"
      ]
     },
     "execution_count": 7,
     "metadata": {},
     "output_type": "execute_result"
    }
   ],
   "source": [
    "Data_P['Delq.Status_D90'].value_counts()"
   ]
  },
  {
   "cell_type": "code",
   "execution_count": 10,
   "metadata": {},
   "outputs": [],
   "source": [
    "\n",
    "Data_P['Delq.Status_D90'] = pd.to_numeric(Data_P['Delq.Status_D90'])"
   ]
  },
  {
   "cell_type": "code",
   "execution_count": 11,
   "metadata": {},
   "outputs": [],
   "source": [
    "Flag_90 = Data_P['Delq.Status_D90'].groupby(Data_P['LOAN_ID']).sum()"
   ]
  },
  {
   "cell_type": "code",
   "execution_count": 18,
   "metadata": {},
   "outputs": [
    {
     "data": {
      "text/html": [
       "<div>\n",
       "<style scoped>\n",
       "    .dataframe tbody tr th:only-of-type {\n",
       "        vertical-align: middle;\n",
       "    }\n",
       "\n",
       "    .dataframe tbody tr th {\n",
       "        vertical-align: top;\n",
       "    }\n",
       "\n",
       "    .dataframe thead th {\n",
       "        text-align: right;\n",
       "    }\n",
       "</style>\n",
       "<table border=\"1\" class=\"dataframe\">\n",
       "  <thead>\n",
       "    <tr style=\"text-align: right;\">\n",
       "      <th></th>\n",
       "      <th>LOAN_ID</th>\n",
       "      <th>Delq.Status_D90</th>\n",
       "    </tr>\n",
       "    <tr>\n",
       "      <th>index</th>\n",
       "      <th></th>\n",
       "      <th></th>\n",
       "    </tr>\n",
       "  </thead>\n",
       "  <tbody>\n",
       "    <tr>\n",
       "      <th>0</th>\n",
       "      <td>100001040173</td>\n",
       "      <td>0.0</td>\n",
       "    </tr>\n",
       "    <tr>\n",
       "      <th>1</th>\n",
       "      <td>100002370993</td>\n",
       "      <td>0.0</td>\n",
       "    </tr>\n",
       "    <tr>\n",
       "      <th>2</th>\n",
       "      <td>100005405807</td>\n",
       "      <td>0.0</td>\n",
       "    </tr>\n",
       "    <tr>\n",
       "      <th>3</th>\n",
       "      <td>100008071646</td>\n",
       "      <td>0.0</td>\n",
       "    </tr>\n",
       "    <tr>\n",
       "      <th>4</th>\n",
       "      <td>100010739040</td>\n",
       "      <td>0.0</td>\n",
       "    </tr>\n",
       "    <tr>\n",
       "      <th>...</th>\n",
       "      <td>...</td>\n",
       "      <td>...</td>\n",
       "    </tr>\n",
       "    <tr>\n",
       "      <th>426201</th>\n",
       "      <td>999991303485</td>\n",
       "      <td>0.0</td>\n",
       "    </tr>\n",
       "    <tr>\n",
       "      <th>426202</th>\n",
       "      <td>999992661330</td>\n",
       "      <td>0.0</td>\n",
       "    </tr>\n",
       "    <tr>\n",
       "      <th>426203</th>\n",
       "      <td>999995056050</td>\n",
       "      <td>0.0</td>\n",
       "    </tr>\n",
       "    <tr>\n",
       "      <th>426204</th>\n",
       "      <td>999997685206</td>\n",
       "      <td>0.0</td>\n",
       "    </tr>\n",
       "    <tr>\n",
       "      <th>426205</th>\n",
       "      <td>999998783494</td>\n",
       "      <td>0.0</td>\n",
       "    </tr>\n",
       "  </tbody>\n",
       "</table>\n",
       "<p>426206 rows × 2 columns</p>\n",
       "</div>"
      ],
      "text/plain": [
       "             LOAN_ID  Delq.Status_D90\n",
       "index                                \n",
       "0       100001040173              0.0\n",
       "1       100002370993              0.0\n",
       "2       100005405807              0.0\n",
       "3       100008071646              0.0\n",
       "4       100010739040              0.0\n",
       "...              ...              ...\n",
       "426201  999991303485              0.0\n",
       "426202  999992661330              0.0\n",
       "426203  999995056050              0.0\n",
       "426204  999997685206              0.0\n",
       "426205  999998783494              0.0\n",
       "\n",
       "[426206 rows x 2 columns]"
      ]
     },
     "execution_count": 18,
     "metadata": {},
     "output_type": "execute_result"
    }
   ],
   "source": [
    "Flag_90 = pd.DataFrame(Flag_90)\n",
    "Flag_90.set_index('index') "
   ]
  },
  {
   "cell_type": "code",
   "execution_count": 19,
   "metadata": {},
   "outputs": [
    {
     "data": {
      "text/plain": [
       "0.0     423359\n",
       "1.0        636\n",
       "2.0        374\n",
       "4.0        337\n",
       "3.0        283\n",
       "5.0        265\n",
       "6.0        206\n",
       "8.0        162\n",
       "7.0        151\n",
       "9.0        104\n",
       "11.0        75\n",
       "10.0        74\n",
       "12.0        45\n",
       "13.0        40\n",
       "14.0        25\n",
       "16.0        20\n",
       "15.0        20\n",
       "18.0        13\n",
       "17.0        10\n",
       "20.0         4\n",
       "19.0         3\n",
       "Name: Delq.Status_D90, dtype: int64"
      ]
     },
     "execution_count": 19,
     "metadata": {},
     "output_type": "execute_result"
    }
   ],
   "source": [
    "Flag_90['Delq.Status_D90'].value_counts()"
   ]
  },
  {
   "cell_type": "code",
   "execution_count": 21,
   "metadata": {},
   "outputs": [],
   "source": [
    "# If replace function does not work, then .loc should be applied to tell pandas that is row element wise \n",
    "\n",
    "Flag_90['Delq.Status_D90'] = Flag_90.loc[:,'Delq.Status_D90'].replace([2,3,4,5,6,7,8,9,10,11,12,13,14,15,16,17,18,19,20],1)"
   ]
  },
  {
   "cell_type": "code",
   "execution_count": 22,
   "metadata": {},
   "outputs": [
    {
     "data": {
      "text/plain": [
       "0.0    423359\n",
       "1.0      2847\n",
       "Name: Delq.Status_D90, dtype: int64"
      ]
     },
     "execution_count": 22,
     "metadata": {},
     "output_type": "execute_result"
    }
   ],
   "source": [
    "Flag_90['Delq.Status_D90'].value_counts()"
   ]
  },
  {
   "cell_type": "code",
   "execution_count": 23,
   "metadata": {},
   "outputs": [
    {
     "data": {
      "text/plain": [
       "(426207, 25)"
      ]
     },
     "execution_count": 23,
     "metadata": {},
     "output_type": "execute_result"
    }
   ],
   "source": [
    "Data_A.shape"
   ]
  },
  {
   "cell_type": "code",
   "execution_count": 24,
   "metadata": {},
   "outputs": [],
   "source": [
    "df = pd.merge(Data_A,Flag_90, on = 'LOAN_ID' )"
   ]
  },
  {
   "cell_type": "code",
   "execution_count": 31,
   "metadata": {},
   "outputs": [],
   "source": [
    "df= df.drop(columns = 'index')"
   ]
  },
  {
   "cell_type": "code",
   "execution_count": 32,
   "metadata": {},
   "outputs": [
    {
     "data": {
      "text/plain": [
       "(426206, 26)"
      ]
     },
     "execution_count": 32,
     "metadata": {},
     "output_type": "execute_result"
    }
   ],
   "source": [
    "df.shape"
   ]
  },
  {
   "cell_type": "code",
   "execution_count": 33,
   "metadata": {
    "scrolled": false
   },
   "outputs": [
    {
     "data": {
      "text/plain": [
       "LOAN_ID                 0\n",
       "ORIG_CHN                0\n",
       "Seller.Name             0\n",
       "ORIG_RT                 0\n",
       "ORIG_AMT                0\n",
       "ORIG_TRM                0\n",
       "ORIG_DTE                0\n",
       "FRST_DTE                0\n",
       "OLTV                    0\n",
       "OCLTV                   1\n",
       "NUM_BO                  0\n",
       "DTI                   111\n",
       "CSCORE_B              336\n",
       "FTHB_FLG                0\n",
       "PURPOSE                 0\n",
       "PROP_TYP                0\n",
       "NUM_UNIT                0\n",
       "OCC_STAT                0\n",
       "STATE                   0\n",
       "ZIP_3                   0\n",
       "MI_PCT             312106\n",
       "Product.Type            0\n",
       "CSCORE_C           235423\n",
       "MI_TYPE            312106\n",
       "RELOCATION_FLG          0\n",
       "Delq.Status_D90         0\n",
       "dtype: int64"
      ]
     },
     "execution_count": 33,
     "metadata": {},
     "output_type": "execute_result"
    }
   ],
   "source": [
    "# Clean Data - dealing with missing values\n",
    "df.isnull().sum()"
   ]
  },
  {
   "cell_type": "code",
   "execution_count": null,
   "metadata": {},
   "outputs": [],
   "source": [
    "# Option 1: drop CSCORE_C \n",
    "df = df.drop(columns = 'CSCORE_C')  "
   ]
  },
  {
   "cell_type": "code",
   "execution_count": 36,
   "metadata": {},
   "outputs": [],
   "source": [
    "df_fillna = df.copy()"
   ]
  },
  {
   "cell_type": "code",
   "execution_count": 37,
   "metadata": {},
   "outputs": [],
   "source": [
    "df_fillna['DTI']= df['DTI'].fillna(df['DTI'].median())"
   ]
  },
  {
   "cell_type": "code",
   "execution_count": 39,
   "metadata": {},
   "outputs": [],
   "source": [
    "df_fillna['CSCORE_B'] = df['CSCORE_B'].fillna(df['CSCORE_B'].median())"
   ]
  },
  {
   "cell_type": "code",
   "execution_count": null,
   "metadata": {},
   "outputs": [],
   "source": [
    "df_fillna['OCLTV'] = df_fillna['OCLTV'].fillna(df['OCLTV'].median())"
   ]
  },
  {
   "cell_type": "code",
   "execution_count": 40,
   "metadata": {},
   "outputs": [],
   "source": [
    "df_fillna = df_fillna.drop(columns=['MI_PCT','MI_TYPE'])"
   ]
  },
  {
   "cell_type": "code",
   "execution_count": 49,
   "metadata": {},
   "outputs": [
    {
     "data": {
      "text/html": [
       "<div>\n",
       "<style scoped>\n",
       "    .dataframe tbody tr th:only-of-type {\n",
       "        vertical-align: middle;\n",
       "    }\n",
       "\n",
       "    .dataframe tbody tr th {\n",
       "        vertical-align: top;\n",
       "    }\n",
       "\n",
       "    .dataframe thead th {\n",
       "        text-align: right;\n",
       "    }\n",
       "</style>\n",
       "<table border=\"1\" class=\"dataframe\">\n",
       "  <thead>\n",
       "    <tr style=\"text-align: right;\">\n",
       "      <th></th>\n",
       "      <th>LOAN_ID</th>\n",
       "      <th>ORIG_CHN</th>\n",
       "      <th>Seller.Name</th>\n",
       "      <th>ORIG_RT</th>\n",
       "      <th>ORIG_AMT</th>\n",
       "      <th>ORIG_TRM</th>\n",
       "      <th>ORIG_DTE</th>\n",
       "      <th>FRST_DTE</th>\n",
       "      <th>OLTV</th>\n",
       "      <th>OCLTV</th>\n",
       "      <th>...</th>\n",
       "      <th>FTHB_FLG</th>\n",
       "      <th>PURPOSE</th>\n",
       "      <th>PROP_TYP</th>\n",
       "      <th>NUM_UNIT</th>\n",
       "      <th>OCC_STAT</th>\n",
       "      <th>STATE</th>\n",
       "      <th>ZIP_3</th>\n",
       "      <th>Product.Type</th>\n",
       "      <th>RELOCATION_FLG</th>\n",
       "      <th>Delq.Status_D90</th>\n",
       "    </tr>\n",
       "  </thead>\n",
       "  <tbody>\n",
       "    <tr>\n",
       "      <th>0</th>\n",
       "      <td>100001040173</td>\n",
       "      <td>R</td>\n",
       "      <td>QUICKEN LOANS INC.</td>\n",
       "      <td>4.25</td>\n",
       "      <td>453000</td>\n",
       "      <td>360</td>\n",
       "      <td>01/2018</td>\n",
       "      <td>03/2018</td>\n",
       "      <td>65</td>\n",
       "      <td>65.0</td>\n",
       "      <td>...</td>\n",
       "      <td>N</td>\n",
       "      <td>C</td>\n",
       "      <td>PU</td>\n",
       "      <td>1</td>\n",
       "      <td>P</td>\n",
       "      <td>OH</td>\n",
       "      <td>430</td>\n",
       "      <td>FRM</td>\n",
       "      <td>N</td>\n",
       "      <td>0.0</td>\n",
       "    </tr>\n",
       "    <tr>\n",
       "      <th>1</th>\n",
       "      <td>100002370993</td>\n",
       "      <td>C</td>\n",
       "      <td>WELLS FARGO BANK, N.A.</td>\n",
       "      <td>4.25</td>\n",
       "      <td>266000</td>\n",
       "      <td>360</td>\n",
       "      <td>01/2018</td>\n",
       "      <td>03/2018</td>\n",
       "      <td>80</td>\n",
       "      <td>80.0</td>\n",
       "      <td>...</td>\n",
       "      <td>N</td>\n",
       "      <td>R</td>\n",
       "      <td>PU</td>\n",
       "      <td>1</td>\n",
       "      <td>P</td>\n",
       "      <td>IN</td>\n",
       "      <td>467</td>\n",
       "      <td>FRM</td>\n",
       "      <td>N</td>\n",
       "      <td>0.0</td>\n",
       "    </tr>\n",
       "    <tr>\n",
       "      <th>2</th>\n",
       "      <td>100005405807</td>\n",
       "      <td>R</td>\n",
       "      <td>PMTT4</td>\n",
       "      <td>3.99</td>\n",
       "      <td>233000</td>\n",
       "      <td>360</td>\n",
       "      <td>12/2017</td>\n",
       "      <td>01/2018</td>\n",
       "      <td>79</td>\n",
       "      <td>79.0</td>\n",
       "      <td>...</td>\n",
       "      <td>N</td>\n",
       "      <td>R</td>\n",
       "      <td>SF</td>\n",
       "      <td>1</td>\n",
       "      <td>P</td>\n",
       "      <td>CA</td>\n",
       "      <td>936</td>\n",
       "      <td>FRM</td>\n",
       "      <td>N</td>\n",
       "      <td>0.0</td>\n",
       "    </tr>\n",
       "    <tr>\n",
       "      <th>3</th>\n",
       "      <td>100008071646</td>\n",
       "      <td>R</td>\n",
       "      <td>OTHER</td>\n",
       "      <td>4.25</td>\n",
       "      <td>184000</td>\n",
       "      <td>360</td>\n",
       "      <td>01/2018</td>\n",
       "      <td>03/2018</td>\n",
       "      <td>80</td>\n",
       "      <td>80.0</td>\n",
       "      <td>...</td>\n",
       "      <td>Y</td>\n",
       "      <td>P</td>\n",
       "      <td>PU</td>\n",
       "      <td>1</td>\n",
       "      <td>P</td>\n",
       "      <td>FL</td>\n",
       "      <td>336</td>\n",
       "      <td>FRM</td>\n",
       "      <td>N</td>\n",
       "      <td>0.0</td>\n",
       "    </tr>\n",
       "    <tr>\n",
       "      <th>4</th>\n",
       "      <td>100010739040</td>\n",
       "      <td>R</td>\n",
       "      <td>OTHER</td>\n",
       "      <td>4.25</td>\n",
       "      <td>242000</td>\n",
       "      <td>360</td>\n",
       "      <td>02/2018</td>\n",
       "      <td>04/2018</td>\n",
       "      <td>49</td>\n",
       "      <td>49.0</td>\n",
       "      <td>...</td>\n",
       "      <td>N</td>\n",
       "      <td>R</td>\n",
       "      <td>SF</td>\n",
       "      <td>1</td>\n",
       "      <td>P</td>\n",
       "      <td>CA</td>\n",
       "      <td>906</td>\n",
       "      <td>FRM</td>\n",
       "      <td>N</td>\n",
       "      <td>0.0</td>\n",
       "    </tr>\n",
       "  </tbody>\n",
       "</table>\n",
       "<p>5 rows × 23 columns</p>\n",
       "</div>"
      ],
      "text/plain": [
       "        LOAN_ID ORIG_CHN             Seller.Name  ORIG_RT  ORIG_AMT  ORIG_TRM  \\\n",
       "0  100001040173        R      QUICKEN LOANS INC.     4.25    453000       360   \n",
       "1  100002370993        C  WELLS FARGO BANK, N.A.     4.25    266000       360   \n",
       "2  100005405807        R                   PMTT4     3.99    233000       360   \n",
       "3  100008071646        R                   OTHER     4.25    184000       360   \n",
       "4  100010739040        R                   OTHER     4.25    242000       360   \n",
       "\n",
       "  ORIG_DTE FRST_DTE  OLTV  OCLTV  ...  FTHB_FLG  PURPOSE  PROP_TYP NUM_UNIT  \\\n",
       "0  01/2018  03/2018    65   65.0  ...         N        C        PU        1   \n",
       "1  01/2018  03/2018    80   80.0  ...         N        R        PU        1   \n",
       "2  12/2017  01/2018    79   79.0  ...         N        R        SF        1   \n",
       "3  01/2018  03/2018    80   80.0  ...         Y        P        PU        1   \n",
       "4  02/2018  04/2018    49   49.0  ...         N        R        SF        1   \n",
       "\n",
       "  OCC_STAT STATE  ZIP_3 Product.Type RELOCATION_FLG  Delq.Status_D90  \n",
       "0        P    OH    430          FRM              N              0.0  \n",
       "1        P    IN    467          FRM              N              0.0  \n",
       "2        P    CA    936          FRM              N              0.0  \n",
       "3        P    FL    336          FRM              N              0.0  \n",
       "4        P    CA    906          FRM              N              0.0  \n",
       "\n",
       "[5 rows x 23 columns]"
      ]
     },
     "execution_count": 49,
     "metadata": {},
     "output_type": "execute_result"
    }
   ],
   "source": [
    "df_fillna.head()"
   ]
  },
  {
   "cell_type": "code",
   "execution_count": 41,
   "metadata": {},
   "outputs": [
    {
     "name": "stdout",
     "output_type": "stream",
     "text": [
      "<class 'pandas.core.frame.DataFrame'>\n",
      "Int64Index: 426206 entries, 0 to 426205\n",
      "Data columns (total 23 columns):\n",
      " #   Column           Non-Null Count   Dtype  \n",
      "---  ------           --------------   -----  \n",
      " 0   LOAN_ID          426206 non-null  int64  \n",
      " 1   ORIG_CHN         426206 non-null  object \n",
      " 2   Seller.Name      426206 non-null  object \n",
      " 3   ORIG_RT          426206 non-null  float64\n",
      " 4   ORIG_AMT         426206 non-null  int64  \n",
      " 5   ORIG_TRM         426206 non-null  int64  \n",
      " 6   ORIG_DTE         426206 non-null  object \n",
      " 7   FRST_DTE         426206 non-null  object \n",
      " 8   OLTV             426206 non-null  int64  \n",
      " 9   OCLTV            426205 non-null  float64\n",
      " 10  NUM_BO           426206 non-null  int64  \n",
      " 11  DTI              426206 non-null  float64\n",
      " 12  CSCORE_B         426206 non-null  float64\n",
      " 13  FTHB_FLG         426206 non-null  object \n",
      " 14  PURPOSE          426206 non-null  object \n",
      " 15  PROP_TYP         426206 non-null  object \n",
      " 16  NUM_UNIT         426206 non-null  int64  \n",
      " 17  OCC_STAT         426206 non-null  object \n",
      " 18  STATE            426206 non-null  object \n",
      " 19  ZIP_3            426206 non-null  int64  \n",
      " 20  Product.Type     426206 non-null  object \n",
      " 21  RELOCATION_FLG   426206 non-null  object \n",
      " 22  Delq.Status_D90  426206 non-null  float64\n",
      "dtypes: float64(5), int64(7), object(11)\n",
      "memory usage: 78.0+ MB\n"
     ]
    }
   ],
   "source": [
    "df_fillna.info()"
   ]
  },
  {
   "cell_type": "code",
   "execution_count": 51,
   "metadata": {},
   "outputs": [
    {
     "data": {
      "text/plain": [
       "N    423549\n",
       "Y      2657\n",
       "Name: RELOCATION_FLG, dtype: int64"
      ]
     },
     "execution_count": 51,
     "metadata": {},
     "output_type": "execute_result"
    }
   ],
   "source": [
    "df_fillna['RELOCATION_FLG'].value_counts()"
   ]
  },
  {
   "cell_type": "code",
   "execution_count": 52,
   "metadata": {},
   "outputs": [],
   "source": [
    "# convert bool columns to int \n",
    "df_fillna['RELOCATION_FLG'] = df_fillna['RELOCATION_FLG'].astype(str)"
   ]
  },
  {
   "cell_type": "code",
   "execution_count": 54,
   "metadata": {},
   "outputs": [
    {
     "data": {
      "text/plain": [
       "N    333461\n",
       "Y     92744\n",
       "U         1\n",
       "Name: FTHB_FLG, dtype: int64"
      ]
     },
     "execution_count": 54,
     "metadata": {},
     "output_type": "execute_result"
    }
   ],
   "source": [
    "df_fillna['FTHB_FLG'].value_counts()"
   ]
  },
  {
   "cell_type": "code",
   "execution_count": 55,
   "metadata": {},
   "outputs": [],
   "source": [
    "#Because 'U' is only one value, so convert it to 'n' for future analysis \n",
    "df_fillna['FTHB_FLG']=df_fillna['FTHB_FLG'].replace('U', 'N')"
   ]
  },
  {
   "cell_type": "code",
   "execution_count": 57,
   "metadata": {},
   "outputs": [],
   "source": [
    "df_fillna['FTHB_FLG'] = df_fillna['FTHB_FLG'].astype(str)"
   ]
  },
  {
   "cell_type": "code",
   "execution_count": 56,
   "metadata": {},
   "outputs": [
    {
     "data": {
      "text/plain": [
       "N    333462\n",
       "Y     92744\n",
       "Name: FTHB_FLG, dtype: int64"
      ]
     },
     "execution_count": 56,
     "metadata": {},
     "output_type": "execute_result"
    }
   ],
   "source": [
    "df_fillna['FTHB_FLG'].value_counts()"
   ]
  },
  {
   "cell_type": "code",
   "execution_count": null,
   "metadata": {},
   "outputs": [],
   "source": [
    "df_fillna['STATE'].value_counts()"
   ]
  },
  {
   "cell_type": "code",
   "execution_count": 59,
   "metadata": {},
   "outputs": [],
   "source": [
    "df_fillna_1 = df_fillna.copy()"
   ]
  },
  {
   "cell_type": "code",
   "execution_count": null,
   "metadata": {},
   "outputs": [],
   "source": [
    "# drop 'STATE' for preliminary analysis \n",
    "df_fillna_1 = df_fillna_1.drop(columns = ['STATE'])"
   ]
  },
  {
   "cell_type": "code",
   "execution_count": 101,
   "metadata": {},
   "outputs": [],
   "source": [
    "# Encode categorical columns to numeric values\n",
    "col_category = ['ORIG_CHN', 'Seller.Name','PURPOSE','PROP_TYP','OCC_STAT','Product.Type']"
   ]
  },
  {
   "cell_type": "code",
   "execution_count": null,
   "metadata": {},
   "outputs": [],
   "source": [
    "df_fillna_1= pd.get_dummies(df_fillna_1, columns = col_category)"
   ]
  },
  {
   "cell_type": "code",
   "execution_count": 103,
   "metadata": {},
   "outputs": [],
   "source": [
    "df_fillna_1 = pd.get_dummies(df_fillna_1, columns = ['FTHB_FLG','RELOCATION_FLG'])"
   ]
  },
  {
   "cell_type": "code",
   "execution_count": 92,
   "metadata": {},
   "outputs": [
    {
     "data": {
      "text/plain": [
       "1    426206\n",
       "Name: Product.Type_FRM, dtype: int64"
      ]
     },
     "execution_count": 92,
     "metadata": {},
     "output_type": "execute_result"
    }
   ],
   "source": [
    "df_fillna_1['Product.Type_FRM'].value_counts()"
   ]
  },
  {
   "cell_type": "code",
   "execution_count": null,
   "metadata": {},
   "outputs": [],
   "source": [
    "df_fillna_1 = df_fillna_1.drop(columns= ['Product.Type_FRM'])"
   ]
  },
  {
   "cell_type": "code",
   "execution_count": 161,
   "metadata": {},
   "outputs": [],
   "source": [
    "df_fillna_1 = df_fillna_1.drop(columns = ['ORIG_DTE','FRST_DTE','OCLTV','ZIP_3'])"
   ]
  },
  {
   "cell_type": "code",
   "execution_count": 162,
   "metadata": {},
   "outputs": [],
   "source": [
    "# Define a targe, ,which Delq.Status_D90 equals '0' means good loans and '1' is bad loans\n",
    "df_fillna_1['Delq.Status_D90'] = df_fillna_1['Delq.Status_D90'].astype(int)"
   ]
  },
  {
   "cell_type": "code",
   "execution_count": 163,
   "metadata": {},
   "outputs": [],
   "source": [
    "y = df_fillna_1['Delq.Status_D90'].values"
   ]
  },
  {
   "cell_type": "code",
   "execution_count": 136,
   "metadata": {},
   "outputs": [],
   "source": [
    "Continuous_Var = ['ORIG_AMT','ORIG_TRM','OLTV','NUM_BO','DTI','CSCORE_B','NUM_UNIT']"
   ]
  },
  {
   "cell_type": "code",
   "execution_count": 164,
   "metadata": {},
   "outputs": [],
   "source": [
    "df_fillna_1[Continuous_Var] = (df_fillna_1[Continuous_Var] - df_fillna_1[Continuous_Var].mean())/df_fillna_1[Continuous_Var].std()"
   ]
  },
  {
   "cell_type": "code",
   "execution_count": 165,
   "metadata": {},
   "outputs": [
    {
     "name": "stdout",
     "output_type": "stream",
     "text": [
      "<class 'pandas.core.frame.DataFrame'>\n",
      "Int64Index: 426206 entries, 0 to 426205\n",
      "Data columns (total 46 columns):\n",
      " #   Column                                                                          Non-Null Count   Dtype  \n",
      "---  ------                                                                          --------------   -----  \n",
      " 0   LOAN_ID                                                                         426206 non-null  int64  \n",
      " 1   ORIG_RT                                                                         426206 non-null  float64\n",
      " 2   ORIG_AMT                                                                        426206 non-null  float64\n",
      " 3   ORIG_TRM                                                                        426206 non-null  float64\n",
      " 4   OLTV                                                                            426206 non-null  float64\n",
      " 5   NUM_BO                                                                          426206 non-null  float64\n",
      " 6   DTI                                                                             426206 non-null  float64\n",
      " 7   CSCORE_B                                                                        426206 non-null  float64\n",
      " 8   NUM_UNIT                                                                        426206 non-null  float64\n",
      " 9   Delq.Status_D90                                                                 426206 non-null  int32  \n",
      " 10  ORIG_CHN_B                                                                      426206 non-null  uint8  \n",
      " 11  ORIG_CHN_C                                                                      426206 non-null  uint8  \n",
      " 12  ORIG_CHN_R                                                                      426206 non-null  uint8  \n",
      " 13  Seller.Name_AMERIHOME MORTGAGE COMPANY, LLC                                     426206 non-null  uint8  \n",
      " 14  Seller.Name_CALIBER HOME LOANS, INC.                                            426206 non-null  uint8  \n",
      " 15  Seller.Name_FAIRWAY INDEPENDENT MORTGAGE CORPORATION                            426206 non-null  uint8  \n",
      " 16  Seller.Name_FLAGSTAR BANK, FSB                                                  426206 non-null  uint8  \n",
      " 17  Seller.Name_FRANKLIN AMERICAN MORTGAGE COMPANY                                  426206 non-null  uint8  \n",
      " 18  Seller.Name_FREEDOM MORTGAGE CORP.                                              426206 non-null  uint8  \n",
      " 19  Seller.Name_GUILD MORTGAGE COMPANY                                              426206 non-null  uint8  \n",
      " 20  Seller.Name_JPMORGAN CHASE BANK, NATIONAL ASSOCIATION                           426206 non-null  uint8  \n",
      " 21  Seller.Name_LOANDEPOT.COM, LLC                                                  426206 non-null  uint8  \n",
      " 22  Seller.Name_MOVEMENT MORTGAGE, LLC                                              426206 non-null  uint8  \n",
      " 23  Seller.Name_NATIONSTAR MORTGAGE, LLC                                            426206 non-null  uint8  \n",
      " 24  Seller.Name_OTHER                                                               426206 non-null  uint8  \n",
      " 25  Seller.Name_PMTT4                                                               426206 non-null  uint8  \n",
      " 26  Seller.Name_QUICKEN LOANS INC.                                                  426206 non-null  uint8  \n",
      " 27  Seller.Name_TRUIST BANK (FORMERLY SUNTRUST BANK)                                426206 non-null  uint8  \n",
      " 28  Seller.Name_U.S. BANK N.A.                                                      426206 non-null  uint8  \n",
      " 29  Seller.Name_UNITED SHORE FINANCIAL SERVICES, LLC DBA UNITED WHOLESALE MORTGAGE  426206 non-null  uint8  \n",
      " 30  Seller.Name_WELLS FARGO BANK, N.A.                                              426206 non-null  uint8  \n",
      " 31  PURPOSE_C                                                                       426206 non-null  uint8  \n",
      " 32  PURPOSE_P                                                                       426206 non-null  uint8  \n",
      " 33  PURPOSE_R                                                                       426206 non-null  uint8  \n",
      " 34  PROP_TYP_CO                                                                     426206 non-null  uint8  \n",
      " 35  PROP_TYP_CP                                                                     426206 non-null  uint8  \n",
      " 36  PROP_TYP_MH                                                                     426206 non-null  uint8  \n",
      " 37  PROP_TYP_PU                                                                     426206 non-null  uint8  \n",
      " 38  PROP_TYP_SF                                                                     426206 non-null  uint8  \n",
      " 39  OCC_STAT_I                                                                      426206 non-null  uint8  \n",
      " 40  OCC_STAT_P                                                                      426206 non-null  uint8  \n",
      " 41  OCC_STAT_S                                                                      426206 non-null  uint8  \n",
      " 42  FTHB_FLG_N                                                                      426206 non-null  uint8  \n",
      " 43  FTHB_FLG_Y                                                                      426206 non-null  uint8  \n",
      " 44  RELOCATION_FLG_N                                                                426206 non-null  uint8  \n",
      " 45  RELOCATION_FLG_Y                                                                426206 non-null  uint8  \n",
      "dtypes: float64(8), int32(1), int64(1), uint8(36)\n",
      "memory usage: 48.8 MB\n"
     ]
    }
   ],
   "source": [
    "df_fillna_1.info()"
   ]
  },
  {
   "cell_type": "code",
   "execution_count": 166,
   "metadata": {},
   "outputs": [],
   "source": [
    "X = df_fillna_1.drop(columns=['LOAN_ID','Delq.Status_D90']).values"
   ]
  },
  {
   "cell_type": "code",
   "execution_count": 168,
   "metadata": {},
   "outputs": [],
   "source": [
    "# start to train-test split the data\n",
    "#import train test split function from sklearn\n",
    "from sklearn.model_selection import train_test_split\n",
    "X_train, X_test, y_train, y_test = train_test_split(X, y, test_size = 0.2, random_state=0)"
   ]
  },
  {
   "cell_type": "code",
   "execution_count": 169,
   "metadata": {},
   "outputs": [
    {
     "name": "stderr",
     "output_type": "stream",
     "text": [
      "C:\\Users\\rhoda\\Anaconda3\\lib\\site-packages\\sklearn\\linear_model\\_logistic.py:940: ConvergenceWarning: lbfgs failed to converge (status=1):\n",
      "STOP: TOTAL NO. of ITERATIONS REACHED LIMIT.\n",
      "\n",
      "Increase the number of iterations (max_iter) or scale the data as shown in:\n",
      "    https://scikit-learn.org/stable/modules/preprocessing.html\n",
      "Please also refer to the documentation for alternative solver options:\n",
      "    https://scikit-learn.org/stable/modules/linear_model.html#logistic-regression\n",
      "  extra_warning_msg=_LOGISTIC_SOLVER_CONVERGENCE_MSG)\n",
      "C:\\Users\\rhoda\\Anaconda3\\lib\\site-packages\\sklearn\\linear_model\\_logistic.py:940: ConvergenceWarning: lbfgs failed to converge (status=1):\n",
      "STOP: TOTAL NO. of ITERATIONS REACHED LIMIT.\n",
      "\n",
      "Increase the number of iterations (max_iter) or scale the data as shown in:\n",
      "    https://scikit-learn.org/stable/modules/preprocessing.html\n",
      "Please also refer to the documentation for alternative solver options:\n",
      "    https://scikit-learn.org/stable/modules/linear_model.html#logistic-regression\n",
      "  extra_warning_msg=_LOGISTIC_SOLVER_CONVERGENCE_MSG)\n",
      "C:\\Users\\rhoda\\Anaconda3\\lib\\site-packages\\sklearn\\linear_model\\_logistic.py:940: ConvergenceWarning: lbfgs failed to converge (status=1):\n",
      "STOP: TOTAL NO. of ITERATIONS REACHED LIMIT.\n",
      "\n",
      "Increase the number of iterations (max_iter) or scale the data as shown in:\n",
      "    https://scikit-learn.org/stable/modules/preprocessing.html\n",
      "Please also refer to the documentation for alternative solver options:\n",
      "    https://scikit-learn.org/stable/modules/linear_model.html#logistic-regression\n",
      "  extra_warning_msg=_LOGISTIC_SOLVER_CONVERGENCE_MSG)\n",
      "C:\\Users\\rhoda\\Anaconda3\\lib\\site-packages\\sklearn\\linear_model\\_logistic.py:940: ConvergenceWarning: lbfgs failed to converge (status=1):\n",
      "STOP: TOTAL NO. of ITERATIONS REACHED LIMIT.\n",
      "\n",
      "Increase the number of iterations (max_iter) or scale the data as shown in:\n",
      "    https://scikit-learn.org/stable/modules/preprocessing.html\n",
      "Please also refer to the documentation for alternative solver options:\n",
      "    https://scikit-learn.org/stable/modules/linear_model.html#logistic-regression\n",
      "  extra_warning_msg=_LOGISTIC_SOLVER_CONVERGENCE_MSG)\n"
     ]
    },
    {
     "data": {
      "text/plain": [
       "LogisticRegressionCV(Cs=10, class_weight=None, cv=None, dual=False,\n",
       "                     fit_intercept=True, intercept_scaling=1.0, l1_ratios=None,\n",
       "                     max_iter=100, multi_class='auto', n_jobs=None,\n",
       "                     penalty='l2', random_state=None, refit=True, scoring=None,\n",
       "                     solver='lbfgs', tol=0.0001, verbose=0)"
      ]
     },
     "execution_count": 169,
     "metadata": {},
     "output_type": "execute_result"
    }
   ],
   "source": [
    "from sklearn.linear_model import LogisticRegressionCV\n",
    "model_cv = LogisticRegressionCV(10)\n",
    "model_cv.fit(X_train, y_train)"
   ]
  },
  {
   "cell_type": "code",
   "execution_count": 170,
   "metadata": {},
   "outputs": [],
   "source": [
    "# Fit a model by providing x and y from training data\n",
    "y_train_pred = model_cv.predict(X_train)\n",
    "p_train_pred = model_cv.predict_proba(X_train)[:,1]"
   ]
  },
  {
   "cell_type": "code",
   "execution_count": 171,
   "metadata": {},
   "outputs": [],
   "source": [
    "# Make predictions on test data\n",
    "y_test_pred = model_cv.predict(X_test)\n",
    "p_test_pred = model_cv.predict_proba(X_test)[:,1]"
   ]
  },
  {
   "cell_type": "code",
   "execution_count": 172,
   "metadata": {},
   "outputs": [],
   "source": [
    "#Calculate the metric scores for the model\n",
    "# Import metrics functions from sklearn\n",
    "from sklearn.metrics import precision_score, accuracy_score, recall_score, f1_score, roc_auc_score"
   ]
  },
  {
   "cell_type": "code",
   "execution_count": 173,
   "metadata": {},
   "outputs": [],
   "source": [
    "import pandas as pd\n",
    "# Helper method to print metric scores\n",
    "def get_performance_metrics(y_train, p_train_pred, y_test, p_test_pred, threshold=0.5):\n",
    "    metric_names = ['AUC','Accuracy','Precision','Recall','f1-score']\n",
    "    metric_values_train = [roc_auc_score(y_train, p_train_pred),\n",
    "                    accuracy_score(y_train, p_train_pred>threshold),\n",
    "                    precision_score(y_train, p_train_pred>threshold),\n",
    "                    recall_score(y_train, p_train_pred>threshold),\n",
    "                    f1_score(y_train, p_train_pred>threshold)\n",
    "                   ]\n",
    "    metric_values_test = [roc_auc_score(y_test, p_test_pred),\n",
    "                    accuracy_score(y_test, p_test_pred>threshold),\n",
    "                    precision_score(y_test, p_test_pred>threshold),\n",
    "                    recall_score(y_test, p_test_pred>threshold),\n",
    "                    f1_score(y_test, p_test_pred>threshold)\n",
    "                   ]\n",
    "    all_metrics = pd.DataFrame({'metrics':metric_names,\n",
    "                                'train':metric_values_train,\n",
    "                                'test':metric_values_test},columns=['metrics','train','test']).set_index('metrics')\n",
    "    print(all_metrics)"
   ]
  },
  {
   "cell_type": "code",
   "execution_count": 174,
   "metadata": {},
   "outputs": [],
   "source": [
    "%matplotlib inline\n",
    "import matplotlib.pyplot as plt\n",
    "from sklearn.metrics import roc_curve, auc\n",
    "\n",
    "def plot_roc_curve(y_train, p_train_pred, y_test, p_test_pred):\n",
    "    roc_auc_train = roc_auc_score(y_train, p_train_pred)\n",
    "    fpr_train, tpr_train, _ = roc_curve(y_train, p_train_pred)\n",
    "\n",
    "    roc_auc_test = roc_auc_score(y_test, p_test_pred)\n",
    "    fpr_test, tpr_test, _ = roc_curve(y_test, p_test_pred)\n",
    "    plt.figure()\n",
    "    lw = 2\n",
    "    plt.plot(fpr_train, tpr_train, color='green',\n",
    "             lw=lw, label='ROC Train (AUC = %0.4f)' % roc_auc_train)\n",
    "    plt.plot(fpr_test, tpr_test, color='darkorange',\n",
    "             lw=lw, label='ROC Test (AUC = %0.4f)' % roc_auc_test)\n",
    "    plt.plot([0, 1], [0, 1], color='navy', lw=lw, linestyle='--')\n",
    "    plt.xlim([0.0, 1.0])\n",
    "    plt.ylim([0.0, 1.05])\n",
    "    plt.xlabel('False Positive Rate')\n",
    "    plt.ylabel('True Positive Rate')\n",
    "    plt.title('Receiver operating characteristic example')\n",
    "    plt.legend(loc=\"lower right\")\n",
    "    plt.show()"
   ]
  },
  {
   "cell_type": "code",
   "execution_count": 196,
   "metadata": {},
   "outputs": [
    {
     "name": "stderr",
     "output_type": "stream",
     "text": [
      "C:\\Users\\rhoda\\Anaconda3\\lib\\site-packages\\sklearn\\metrics\\_classification.py:1272: UndefinedMetricWarning: Precision is ill-defined and being set to 0.0 due to no predicted samples. Use `zero_division` parameter to control this behavior.\n",
      "  _warn_prf(average, modifier, msg_start, len(result))\n",
      "C:\\Users\\rhoda\\Anaconda3\\lib\\site-packages\\sklearn\\metrics\\_classification.py:1272: UndefinedMetricWarning: Precision is ill-defined and being set to 0.0 due to no predicted samples. Use `zero_division` parameter to control this behavior.\n",
      "  _warn_prf(average, modifier, msg_start, len(result))\n"
     ]
    },
    {
     "name": "stdout",
     "output_type": "stream",
     "text": [
      "              train      test\n",
      "metrics                      \n",
      "AUC        0.821227  0.825207\n",
      "Accuracy   0.993366  0.993137\n",
      "Precision  0.000000  0.000000\n",
      "Recall     0.000000  0.000000\n",
      "f1-score   0.000000  0.000000\n"
     ]
    }
   ],
   "source": [
    "def get_performance_metrics_1(y_train, p_train_pred, y_test, p_test_pred, threshold=0.9):\n",
    "    metric_names = ['AUC','Accuracy','Precision','Recall','f1-score']\n",
    "    metric_values_train = [roc_auc_score(y_train, p_train_pred),\n",
    "                    accuracy_score(y_train, p_train_pred>threshold),\n",
    "                    precision_score(y_train, p_train_pred>threshold),\n",
    "                    recall_score(y_train, p_train_pred>threshold),\n",
    "                    f1_score(y_train, p_train_pred>threshold)\n",
    "                   ]\n",
    "    metric_values_test = [roc_auc_score(y_test, p_test_pred),\n",
    "                    accuracy_score(y_test, p_test_pred>threshold),\n",
    "                    precision_score(y_test, p_test_pred>threshold),\n",
    "                    recall_score(y_test, p_test_pred>threshold),\n",
    "                    f1_score(y_test, p_test_pred>threshold)\n",
    "                   ]\n",
    "    all_metrics = pd.DataFrame({'metrics':metric_names,\n",
    "                                'train':metric_values_train,\n",
    "                                'test':metric_values_test},columns=['metrics','train','test']).set_index('metrics')\n",
    "    print(all_metrics)\n",
    "get_performance_metrics_1(y_train, p_train_pred, y_test, p_test_pred)"
   ]
  },
  {
   "cell_type": "code",
   "execution_count": 175,
   "metadata": {},
   "outputs": [
    {
     "name": "stderr",
     "output_type": "stream",
     "text": [
      "C:\\Users\\rhoda\\Anaconda3\\lib\\site-packages\\sklearn\\metrics\\_classification.py:1272: UndefinedMetricWarning: Precision is ill-defined and being set to 0.0 due to no predicted samples. Use `zero_division` parameter to control this behavior.\n",
      "  _warn_prf(average, modifier, msg_start, len(result))\n",
      "C:\\Users\\rhoda\\Anaconda3\\lib\\site-packages\\sklearn\\metrics\\_classification.py:1272: UndefinedMetricWarning: Precision is ill-defined and being set to 0.0 due to no predicted samples. Use `zero_division` parameter to control this behavior.\n",
      "  _warn_prf(average, modifier, msg_start, len(result))\n"
     ]
    },
    {
     "name": "stdout",
     "output_type": "stream",
     "text": [
      "              train      test\n",
      "metrics                      \n",
      "AUC        0.821227  0.825207\n",
      "Accuracy   0.993366  0.993137\n",
      "Precision  0.000000  0.000000\n",
      "Recall     0.000000  0.000000\n",
      "f1-score   0.000000  0.000000\n"
     ]
    },
    {
     "data": {
      "image/png": "[encoded data removed]",
      "text/plain": [
       "<Figure size 432x288 with 1 Axes>"
      ]
     },
     "metadata": {
      "needs_background": "light"
     },
     "output_type": "display_data"
    }
   ],
   "source": [
    "# print model results\n",
    "get_performance_metrics(y_train, p_train_pred, y_test, p_test_pred)\n",
    "plot_roc_curve(y_train, p_train_pred, y_test, p_test_pred)"
   ]
  },
  {
   "cell_type": "code",
   "execution_count": null,
   "metadata": {},
   "outputs": [],
   "source": [
    "#Understanding the Estimated Coefficients"
   ]
  },
  {
   "cell_type": "code",
   "execution_count": 178,
   "metadata": {
    "scrolled": false
   },
   "outputs": [
    {
     "data": {
      "text/plain": [
       "Index(['ORIG_RT', 'ORIG_AMT', 'ORIG_TRM', 'OLTV', 'NUM_BO', 'DTI', 'CSCORE_B',\n",
       "       'NUM_UNIT', 'ORIG_CHN_B', 'ORIG_CHN_C', 'ORIG_CHN_R',\n",
       "       'Seller.Name_AMERIHOME MORTGAGE COMPANY, LLC',\n",
       "       'Seller.Name_CALIBER HOME LOANS, INC.',\n",
       "       'Seller.Name_FAIRWAY INDEPENDENT MORTGAGE CORPORATION',\n",
       "       'Seller.Name_FLAGSTAR BANK, FSB',\n",
       "       'Seller.Name_FRANKLIN AMERICAN MORTGAGE COMPANY',\n",
       "       'Seller.Name_FREEDOM MORTGAGE CORP.',\n",
       "       'Seller.Name_GUILD MORTGAGE COMPANY',\n",
       "       'Seller.Name_JPMORGAN CHASE BANK, NATIONAL ASSOCIATION',\n",
       "       'Seller.Name_LOANDEPOT.COM, LLC', 'Seller.Name_MOVEMENT MORTGAGE, LLC',\n",
       "       'Seller.Name_NATIONSTAR MORTGAGE, LLC', 'Seller.Name_OTHER',\n",
       "       'Seller.Name_PMTT4', 'Seller.Name_QUICKEN LOANS INC.',\n",
       "       'Seller.Name_TRUIST BANK (FORMERLY SUNTRUST BANK)',\n",
       "       'Seller.Name_U.S. BANK N.A.',\n",
       "       'Seller.Name_UNITED SHORE FINANCIAL SERVICES, LLC DBA UNITED WHOLESALE MORTGAGE',\n",
       "       'Seller.Name_WELLS FARGO BANK, N.A.', 'PURPOSE_C', 'PURPOSE_P',\n",
       "       'PURPOSE_R', 'PROP_TYP_CO', 'PROP_TYP_CP', 'PROP_TYP_MH', 'PROP_TYP_PU',\n",
       "       'PROP_TYP_SF', 'OCC_STAT_I', 'OCC_STAT_P', 'OCC_STAT_S', 'FTHB_FLG_N',\n",
       "       'FTHB_FLG_Y', 'RELOCATION_FLG_N', 'RELOCATION_FLG_Y'],\n",
       "      dtype='object')"
      ]
     },
     "execution_count": 178,
     "metadata": {},
     "output_type": "execute_result"
    }
   ],
   "source": [
    "a = df_fillna_1.drop(columns=['LOAN_ID','Delq.Status_D90'])\n",
    "a.columns"
   ]
  },
  {
   "cell_type": "code",
   "execution_count": null,
   "metadata": {},
   "outputs": [],
   "source": [
    "selected_features = ['ORIG_RT', 'ORIG_AMT', 'ORIG_TRM', 'OLTV', 'NUM_BO', 'DTI', 'CSCORE_B',\n",
    "       'NUM_UNIT', 'ORIG_CHN_B', 'ORIG_CHN_C', 'ORIG_CHN_R',\n",
    "       'Seller.Name_AMERIHOME MORTGAGE COMPANY, LLC',\n",
    "       'Seller.Name_CALIBER HOME LOANS, INC.',\n",
    "       'Seller.Name_FAIRWAY INDEPENDENT MORTGAGE CORPORATION',\n",
    "       'Seller.Name_FLAGSTAR BANK, FSB',\n",
    "       'Seller.Name_FRANKLIN AMERICAN MORTGAGE COMPANY',\n",
    "       'Seller.Name_FREEDOM MORTGAGE CORP.',\n",
    "       'Seller.Name_GUILD MORTGAGE COMPANY',\n",
    "       'Seller.Name_JPMORGAN CHASE BANK, NATIONAL ASSOCIATION',\n",
    "       'Seller.Name_LOANDEPOT.COM, LLC', 'Seller.Name_MOVEMENT MORTGAGE, LLC',\n",
    "       'Seller.Name_NATIONSTAR MORTGAGE, LLC', 'Seller.Name_OTHER',\n",
    "       'Seller.Name_PMTT4', 'Seller.Name_QUICKEN LOANS INC.',\n",
    "       'Seller.Name_TRUIST BANK (FORMERLY SUNTRUST BANK)',\n",
    "       'Seller.Name_U.S. BANK N.A.',\n",
    "       'Seller.Name_UNITED SHORE FINANCIAL SERVICES, LLC DBA UNITED WHOLESALE MORTGAGE',\n",
    "       'Seller.Name_WELLS FARGO BANK, N.A.', 'PURPOSE_C', 'PURPOSE_P',\n",
    "       'PURPOSE_R', 'PROP_TYP_CO', 'PROP_TYP_CP', 'PROP_TYP_MH', 'PROP_TYP_PU',\n",
    "       'PROP_TYP_SF', 'OCC_STAT_I', 'OCC_STAT_P', 'OCC_STAT_S', 'FTHB_FLG_N',\n",
    "       'FTHB_FLG_Y', 'RELOCATION_FLG_N', 'RELOCATION_FLG_Y']"
   ]
  },
  {
   "cell_type": "code",
   "execution_count": 214,
   "metadata": {},
   "outputs": [
    {
     "ename": "AttributeError",
     "evalue": "'LogisticRegressionCV' object has no attribute 'coef'",
     "output_type": "error",
     "traceback": [
      "\u001b[1;31m---------------------------------------------------------------------------\u001b[0m",
      "\u001b[1;31mAttributeError\u001b[0m                            Traceback (most recent call last)",
      "\u001b[1;32m<ipython-input-214-9ac193abdda0>\u001b[0m in \u001b[0;36m<module>\u001b[1;34m\u001b[0m\n\u001b[1;32m----> 1\u001b[1;33m \u001b[0mdf_coeffs\u001b[0m \u001b[1;33m=\u001b[0m \u001b[0mpd\u001b[0m\u001b[1;33m.\u001b[0m\u001b[0mDataFrame\u001b[0m\u001b[1;33m(\u001b[0m\u001b[0mlist\u001b[0m\u001b[1;33m(\u001b[0m\u001b[0mzip\u001b[0m\u001b[1;33m(\u001b[0m\u001b[0mselected_features\u001b[0m\u001b[1;33m,\u001b[0m \u001b[0mmodel_cv\u001b[0m\u001b[1;33m.\u001b[0m\u001b[0mcoef\u001b[0m\u001b[1;33m(\u001b[0m\u001b[1;33m)\u001b[0m\u001b[1;33m)\u001b[0m\u001b[1;33m)\u001b[0m\u001b[1;33m)\u001b[0m\u001b[1;33m.\u001b[0m\u001b[0msort_values\u001b[0m\u001b[1;33m(\u001b[0m\u001b[0mby\u001b[0m\u001b[1;33m=\u001b[0m\u001b[1;33m[\u001b[0m\u001b[1;36m1\u001b[0m\u001b[1;33m]\u001b[0m\u001b[1;33m,\u001b[0m \u001b[0mascending\u001b[0m\u001b[1;33m=\u001b[0m\u001b[1;32mFalse\u001b[0m\u001b[1;33m)\u001b[0m\u001b[1;33m\u001b[0m\u001b[1;33m\u001b[0m\u001b[0m\n\u001b[0m\u001b[0;32m      2\u001b[0m \u001b[0mdf_coeffs\u001b[0m\u001b[1;33m.\u001b[0m\u001b[0mcolumns\u001b[0m \u001b[1;33m=\u001b[0m \u001b[1;33m[\u001b[0m\u001b[1;34m'feature'\u001b[0m\u001b[1;33m,\u001b[0m \u001b[1;34m'coeff'\u001b[0m\u001b[1;33m]\u001b[0m\u001b[1;33m\u001b[0m\u001b[1;33m\u001b[0m\u001b[0m\n\u001b[0;32m      3\u001b[0m \u001b[0mdf_coeffs\u001b[0m\u001b[1;33m\u001b[0m\u001b[1;33m\u001b[0m\u001b[0m\n",
      "\u001b[1;31mAttributeError\u001b[0m: 'LogisticRegressionCV' object has no attribute 'coef'"
     ]
    }
   ],
   "source": [
    "df_coeffs = pd.DataFrame(list(zip(selected_features, model_cv.coef_.flatten()))).sort_values(by=[1], ascending=False)\n",
    "df_coeffs.columns = ['feature', 'coeff']\n",
    "df_coeffs"
   ]
  },
  {
   "cell_type": "code",
   "execution_count": 179,
   "metadata": {},
   "outputs": [
    {
     "data": {
      "text/html": [
       "<div>\n",
       "<style scoped>\n",
       "    .dataframe tbody tr th:only-of-type {\n",
       "        vertical-align: middle;\n",
       "    }\n",
       "\n",
       "    .dataframe tbody tr th {\n",
       "        vertical-align: top;\n",
       "    }\n",
       "\n",
       "    .dataframe thead th {\n",
       "        text-align: right;\n",
       "    }\n",
       "</style>\n",
       "<table border=\"1\" class=\"dataframe\">\n",
       "  <thead>\n",
       "    <tr style=\"text-align: right;\">\n",
       "      <th></th>\n",
       "      <th>feature</th>\n",
       "      <th>coeff</th>\n",
       "    </tr>\n",
       "  </thead>\n",
       "  <tbody>\n",
       "    <tr>\n",
       "      <th>5</th>\n",
       "      <td>OLTV</td>\n",
       "      <td>0.064230</td>\n",
       "    </tr>\n",
       "    <tr>\n",
       "      <th>3</th>\n",
       "      <td>ORIG_AMT</td>\n",
       "      <td>0.058350</td>\n",
       "    </tr>\n",
       "    <tr>\n",
       "      <th>0</th>\n",
       "      <td>ORIG_CHN</td>\n",
       "      <td>0.057846</td>\n",
       "    </tr>\n",
       "    <tr>\n",
       "      <th>2</th>\n",
       "      <td>ORIG_RT</td>\n",
       "      <td>0.036926</td>\n",
       "    </tr>\n",
       "    <tr>\n",
       "      <th>9</th>\n",
       "      <td>FTHB_FLG</td>\n",
       "      <td>0.012320</td>\n",
       "    </tr>\n",
       "    <tr>\n",
       "      <th>11</th>\n",
       "      <td>PROP_TYP</td>\n",
       "      <td>0.003326</td>\n",
       "    </tr>\n",
       "    <tr>\n",
       "      <th>12</th>\n",
       "      <td>NUM_UNIT</td>\n",
       "      <td>0.000995</td>\n",
       "    </tr>\n",
       "    <tr>\n",
       "      <th>8</th>\n",
       "      <td>CSCORE_B</td>\n",
       "      <td>0.000084</td>\n",
       "    </tr>\n",
       "    <tr>\n",
       "      <th>15</th>\n",
       "      <td>RELOCATION_FLG</td>\n",
       "      <td>-0.000321</td>\n",
       "    </tr>\n",
       "    <tr>\n",
       "      <th>14</th>\n",
       "      <td>Product.Type</td>\n",
       "      <td>-0.000915</td>\n",
       "    </tr>\n",
       "    <tr>\n",
       "      <th>13</th>\n",
       "      <td>OCC_STAT</td>\n",
       "      <td>-0.001146</td>\n",
       "    </tr>\n",
       "    <tr>\n",
       "      <th>7</th>\n",
       "      <td>DTI</td>\n",
       "      <td>-0.010326</td>\n",
       "    </tr>\n",
       "    <tr>\n",
       "      <th>10</th>\n",
       "      <td>PURPOSE</td>\n",
       "      <td>-0.012403</td>\n",
       "    </tr>\n",
       "    <tr>\n",
       "      <th>1</th>\n",
       "      <td>Seller.Name</td>\n",
       "      <td>-0.031300</td>\n",
       "    </tr>\n",
       "    <tr>\n",
       "      <th>4</th>\n",
       "      <td>ORIG_TRM</td>\n",
       "      <td>-0.068997</td>\n",
       "    </tr>\n",
       "    <tr>\n",
       "      <th>6</th>\n",
       "      <td>NUM_BO</td>\n",
       "      <td>-0.194717</td>\n",
       "    </tr>\n",
       "  </tbody>\n",
       "</table>\n",
       "</div>"
      ],
      "text/plain": [
       "           feature     coeff\n",
       "5             OLTV  0.064230\n",
       "3         ORIG_AMT  0.058350\n",
       "0         ORIG_CHN  0.057846\n",
       "2          ORIG_RT  0.036926\n",
       "9         FTHB_FLG  0.012320\n",
       "11        PROP_TYP  0.003326\n",
       "12        NUM_UNIT  0.000995\n",
       "8         CSCORE_B  0.000084\n",
       "15  RELOCATION_FLG -0.000321\n",
       "14    Product.Type -0.000915\n",
       "13        OCC_STAT -0.001146\n",
       "7              DTI -0.010326\n",
       "10         PURPOSE -0.012403\n",
       "1      Seller.Name -0.031300\n",
       "4         ORIG_TRM -0.068997\n",
       "6           NUM_BO -0.194717"
      ]
     },
     "execution_count": 179,
     "metadata": {},
     "output_type": "execute_result"
    }
   ],
   "source": [
    "df_coeffs = pd.DataFrame(list(zip(selected_features, model_cv.coef_.flatten()))).sort_values(by=[1], ascending=False)\n",
    "df_coeffs.columns = ['feature', 'coeff']\n",
    "df_coeffs"
   ]
  },
  {
   "cell_type": "code",
   "execution_count": 180,
   "metadata": {},
   "outputs": [
    {
     "data": {
      "image/png": "[encoded data removed]",
      "text/plain": [
       "<Figure size 432x288 with 1 Axes>"
      ]
     },
     "metadata": {
      "needs_background": "light"
     },
     "output_type": "display_data"
    }
   ],
   "source": [
    "ax = df_coeffs.plot.barh()\n",
    "t = np.arange(X.shape[1])\n",
    "ax.set_yticks(t)\n",
    "ax.set_yticklabels(df_coeffs['feature'])\n",
    "plt.show()"
   ]
  },
  {
   "cell_type": "code",
   "execution_count": 185,
   "metadata": {},
   "outputs": [],
   "source": [
    "# define function to perform train, test, and get model performance\n",
    "def train_test_model(clf, X_train, y_train, X_test, y_test):\n",
    "    # Fit a model by providing X and y from training set\n",
    "    clf.fit(X_train, y_train)\n",
    "\n",
    "    # Make prediction on the training data\n",
    "    y_train_pred = clf.predict(X_train)\n",
    "    p_train_pred = clf.predict_proba(X_train)[:,1]\n",
    "\n",
    "    # Make predictions on test data\n",
    "    y_test_pred = clf.predict(X_test)\n",
    "    p_test_pred = clf.predict_proba(X_test)[:,1]\n",
    "\n",
    "    # print model results\n",
    "    get_performance_metrics(y_train, p_train_pred, y_test, p_test_pred)\n",
    "    plot_roc_curve(y_train, p_train_pred, y_test, p_test_pred)"
   ]
  },
  {
   "cell_type": "code",
   "execution_count": 209,
   "metadata": {},
   "outputs": [],
   "source": [
    "# Random Forest \n",
    "from sklearn.ensemble import RandomForestClassifier\n",
    "\n",
    "# Choose some parameter combinations to try\n",
    "parameters = {'n_estimators': 5,\n",
    "              'max_features': 'auto',\n",
    "              'criterion': 'gini',\n",
    "              'max_depth': 3,\n",
    "              'min_samples_split': 2,\n",
    "              'min_samples_leaf': 3,\n",
    "              'random_state': 0,\n",
    "              'n_jobs': -1\n",
    "              }"
   ]
  },
  {
   "cell_type": "code",
   "execution_count": 210,
   "metadata": {},
   "outputs": [],
   "source": [
    "clf = RandomForestClassifier(**parameters)"
   ]
  },
  {
   "cell_type": "code",
   "execution_count": 211,
   "metadata": {},
   "outputs": [
    {
     "data": {
      "text/plain": [
       "RandomForestClassifier(bootstrap=True, ccp_alpha=0.0, class_weight=None,\n",
       "                       criterion='gini', max_depth=3, max_features='auto',\n",
       "                       max_leaf_nodes=None, max_samples=None,\n",
       "                       min_impurity_decrease=0.0, min_impurity_split=None,\n",
       "                       min_samples_leaf=3, min_samples_split=2,\n",
       "                       min_weight_fraction_leaf=0.0, n_estimators=5, n_jobs=-1,\n",
       "                       oob_score=False, random_state=0, verbose=0,\n",
       "                       warm_start=False)"
      ]
     },
     "execution_count": 211,
     "metadata": {},
     "output_type": "execute_result"
    }
   ],
   "source": [
    "clf.fit(X_train, y_train)"
   ]
  },
  {
   "cell_type": "code",
   "execution_count": 186,
   "metadata": {
    "scrolled": false
   },
   "outputs": [
    {
     "name": "stderr",
     "output_type": "stream",
     "text": [
      "C:\\Users\\rhoda\\Anaconda3\\lib\\site-packages\\sklearn\\metrics\\_classification.py:1272: UndefinedMetricWarning: Precision is ill-defined and being set to 0.0 due to no predicted samples. Use `zero_division` parameter to control this behavior.\n",
      "  _warn_prf(average, modifier, msg_start, len(result))\n",
      "C:\\Users\\rhoda\\Anaconda3\\lib\\site-packages\\sklearn\\metrics\\_classification.py:1272: UndefinedMetricWarning: Precision is ill-defined and being set to 0.0 due to no predicted samples. Use `zero_division` parameter to control this behavior.\n",
      "  _warn_prf(average, modifier, msg_start, len(result))\n"
     ]
    },
    {
     "name": "stdout",
     "output_type": "stream",
     "text": [
      "              train      test\n",
      "metrics                      \n",
      "AUC        0.970729  0.828563\n",
      "Accuracy   0.993366  0.993137\n",
      "Precision  0.000000  0.000000\n",
      "Recall     0.000000  0.000000\n",
      "f1-score   0.000000  0.000000\n"
     ]
    },
    {
     "data": {
      "image/png": "[encoded data removed]",
      "text/plain": [
       "<Figure size 432x288 with 1 Axes>"
      ]
     },
     "metadata": {
      "needs_background": "light"
     },
     "output_type": "display_data"
    }
   ],
   "source": [
    "train_test_model(clf, X_train, y_train, X_test, y_test)"
   ]
  },
  {
   "cell_type": "code",
   "execution_count": 212,
   "metadata": {},
   "outputs": [
    {
     "name": "stdout",
     "output_type": "stream",
     "text": [
      "              train      test\n",
      "metrics                      \n",
      "AUC        0.993938  0.525270\n",
      "Accuracy   0.993492  0.992879\n",
      "Precision  0.664122  0.107143\n",
      "Recall     0.038462  0.005128\n",
      "f1-score   0.072712  0.009788\n"
     ]
    },
    {
     "data": {
      "image/png": "[encoded data removed]",
      "text/plain": [
       "<Figure size 432x288 with 1 Axes>"
      ]
     },
     "metadata": {
      "needs_background": "light"
     },
     "output_type": "display_data"
    }
   ],
   "source": [
    "#Single KNN\n",
    "from sklearn.neighbors import KNeighborsClassifier\n",
    "parameters = {\n",
    "    #'weights':'distance',\n",
    "    'n_neighbors':3,\n",
    "    'leaf_size':10\n",
    "}\n",
    "base_classifier = KNeighborsClassifier(**parameters)\n",
    "clf = base_classifier\n",
    "\n",
    "# Train test model\n",
    "train_test_model(clf, X_train, y_train, X_test, y_test)"
   ]
  },
  {
   "cell_type": "code",
   "execution_count": 213,
   "metadata": {},
   "outputs": [
    {
     "name": "stdout",
     "output_type": "stream",
     "text": [
      "              train      test\n",
      "metrics                      \n",
      "AUC        0.865269  0.825935\n",
      "Accuracy   0.993674  0.992703\n",
      "Precision  0.900763  0.025641\n",
      "Recall     0.052166  0.001709\n",
      "f1-score   0.098621  0.003205\n"
     ]
    },
    {
     "data": {
      "image/png": "[encoded data removed]",
      "text/plain": [
       "<Figure size 432x288 with 1 Axes>"
      ]
     },
     "metadata": {
      "needs_background": "light"
     },
     "output_type": "display_data"
    }
   ],
   "source": [
    "# http://scikit-learn.org/stable/modules/generated/sklearn.ensemble.GradientBoostingClassifier.html\n",
    "from sklearn.ensemble import GradientBoostingClassifier\n",
    "\n",
    "# Choose some parameter combinations to try\n",
    "parameters = {\n",
    "    'n_estimators': 50,\n",
    "    'max_depth': 5,\n",
    "    'learning_rate': 0.2,\n",
    "    'random_state': 42\n",
    "}\n",
    "\n",
    "# parameters = {\n",
    "#     'n_estimators': 50,\n",
    "#     'max_depth': 5,\n",
    "#     'learning_rate': 0.2,\n",
    "#     'subsample': 0.7,\n",
    "#     'max_features':0.8,\n",
    "#     'random_state': 42\n",
    "# }\n",
    "\n",
    "clf = GradientBoostingClassifier(**parameters)\n",
    "\n",
    "# Train test model\n",
    "train_test_model(clf, X_train, y_train, X_test, y_test)"
   ]
  },
  {
   "cell_type": "code",
   "execution_count": null,
   "metadata": {},
   "outputs": [],
   "source": []
  }
 ],
 "metadata": {
  "kernelspec": {
   "display_name": "Python 3",
   "language": "python",
   "name": "python3"
  },
  "language_info": {
   "codemirror_mode": {
    "name": "ipython",
    "version": 3
   },
   "file_extension": ".py",
   "mimetype": "text/x-python",
   "name": "python",
   "nbconvert_exporter": "python",
   "pygments_lexer": "ipython3",
   "version": "3.7.3"
  }
 },
 "nbformat": 4,
 "nbformat_minor": 4
}
